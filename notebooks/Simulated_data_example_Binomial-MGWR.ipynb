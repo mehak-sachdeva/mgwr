{
 "cells": [
  {
   "cell_type": "code",
   "execution_count": 1,
   "metadata": {},
   "outputs": [],
   "source": [
    "import sys\n",
    "sys.path.append(\"C:/Users/msachde1/Downloads/Research/Development/mgwr\")"
   ]
  },
  {
   "cell_type": "code",
   "execution_count": 2,
   "metadata": {},
   "outputs": [],
   "source": [
    "import warnings\n",
    "warnings.filterwarnings(\"ignore\")\n",
    "import pandas as pd\n",
    "import numpy as np\n",
    "\n",
    "from mgwr.gwr import GWR\n",
    "from spglm.family import Gaussian, Binomial, Poisson\n",
    "from mgwr.gwr import MGWR\n",
    "from mgwr.sel_bw import Sel_BW\n",
    "import multiprocessing as mp\n",
    "pool = mp.Pool()\n",
    "from scipy import linalg\n",
    "import numpy.linalg as la\n",
    "from scipy import sparse as sp\n",
    "from scipy.sparse import linalg as spla\n",
    "from spreg.utils import spdot, spmultiply\n",
    "from scipy import special\n",
    "import libpysal as ps\n",
    "import seaborn as sns\n",
    "import matplotlib.pyplot as plt\n",
    "from copy import deepcopy\n",
    "import copy\n",
    "from collections import namedtuple\n",
    "import spglm"
   ]
  },
  {
   "cell_type": "markdown",
   "metadata": {},
   "source": [
    "### Simulated data for Binomial MGWR"
   ]
  },
  {
   "cell_type": "markdown",
   "metadata": {},
   "source": [
    "### Global Example"
   ]
  },
  {
   "cell_type": "code",
   "execution_count": 3,
   "metadata": {},
   "outputs": [],
   "source": [
    "x = np.linspace(0, 25, 25)\n",
    "y = np.linspace(25, 0, 25)\n",
    "X, Y = np.meshgrid(x, y)\n",
    "\n",
    "lon = X.reshape(-1,1)\n",
    "lat = Y.reshape(-1,1)\n",
    "\n",
    "coords = np.array(list(zip(lon,lat)))"
   ]
  },
  {
   "cell_type": "code",
   "execution_count": 4,
   "metadata": {},
   "outputs": [],
   "source": [
    "x1=np.random.normal(0,1,625)\n",
    "x2=np.random.normal(0,1,625)\n",
    "error = np.random.normal(0,0.1,625)\n",
    "\n",
    "z = 1+2*x1+3*x2+error\n",
    "\n",
    "x1=x1.reshape(-1,1)\n",
    "x2=x2.reshape(-1,1)\n",
    "\n",
    "pr = 1/(1+np.exp(-z))"
   ]
  },
  {
   "cell_type": "code",
   "execution_count": 5,
   "metadata": {},
   "outputs": [],
   "source": [
    "y = np.random.binomial(1,pr)\n",
    "X = np.hstack([x1,x2])\n",
    "y = np.array(y).reshape((-1,1))"
   ]
  },
  {
   "cell_type": "code",
   "execution_count": 6,
   "metadata": {},
   "outputs": [],
   "source": [
    "bw = Sel_BW(coords,y,X,family=Binomial())\n",
    "bw=bw.search()"
   ]
  },
  {
   "cell_type": "code",
   "execution_count": 7,
   "metadata": {},
   "outputs": [],
   "source": [
    "mod = GWR(coords, y, X, bw,family=Binomial()).fit()"
   ]
  },
  {
   "cell_type": "markdown",
   "metadata": {},
   "source": [
    "### MGWR"
   ]
  },
  {
   "cell_type": "code",
   "execution_count": 8,
   "metadata": {},
   "outputs": [
    {
     "name": "stdout",
     "output_type": "stream",
     "text": [
      "Current iteration: 1 ,SOC: 0.0231723\n",
      "Bandwidths: 297.0, 624.0, 624.0\n",
      "Current iteration: 2 ,SOC: 0.028159\n",
      "Bandwidths: 624.0, 624.0, 624.0\n",
      "Current iteration: 3 ,SOC: 0.0061479\n",
      "Bandwidths: 297.0, 624.0, 624.0\n",
      "Current iteration: 4 ,SOC: 0.0021595\n",
      "Bandwidths: 624.0, 624.0, 624.0\n",
      "Current iteration: 5 ,SOC: 0.0002629\n",
      "Bandwidths: 624.0, 624.0, 624.0\n",
      "Current iteration: 6 ,SOC: 6.38e-05\n",
      "Bandwidths: 624.0, 624.0, 624.0\n",
      "Current iteration: 7 ,SOC: 2.92e-05\n",
      "Bandwidths: 624.0, 624.0, 624.0\n",
      "Current iteration: 8 ,SOC: 1.51e-05\n",
      "Bandwidths: 624.0, 624.0, 624.0\n",
      "Current iteration: 9 ,SOC: 8e-06\n",
      "Bandwidths: 624.0, 624.0, 624.0\n"
     ]
    },
    {
     "data": {
      "text/plain": [
       "array([624., 624., 624.])"
      ]
     },
     "execution_count": 8,
     "metadata": {},
     "output_type": "execute_result"
    }
   ],
   "source": [
    "selector = Sel_BW(coords,y,X,multi=True,family=Binomial())\n",
    "selector.search(verbose=True,max_iter_multi=50)"
   ]
  },
  {
   "cell_type": "code",
   "execution_count": 9,
   "metadata": {},
   "outputs": [
    {
     "data": {
      "application/vnd.jupyter.widget-view+json": {
       "model_id": "f76929fd0fbb478caae9030e4f08dd69",
       "version_major": 2,
       "version_minor": 0
      },
      "text/plain": [
       "HBox(children=(IntProgress(value=0, description='Inference', max=1), HTML(value='')))"
      ]
     },
     "metadata": {},
     "output_type": "display_data"
    },
    {
     "name": "stdout",
     "output_type": "stream",
     "text": [
      "\n"
     ]
    }
   ],
   "source": [
    "mod_2 = MGWR(coords, y, X, selector,family=Binomial()).fit()"
   ]
  },
  {
   "cell_type": "code",
   "execution_count": 11,
   "metadata": {},
   "outputs": [
    {
     "data": {
      "text/plain": [
       "(array([0.96480293, 2.12105044, 3.32960861]),\n",
       " array([0.58645115, 1.35210286, 2.5671966 ]))"
      ]
     },
     "execution_count": 11,
     "metadata": {},
     "output_type": "execute_result"
    }
   ],
   "source": [
    "np.mean(mod.params,axis=0), np.mean(mod_2.params,axis=0)"
   ]
  },
  {
   "cell_type": "markdown",
   "metadata": {},
   "source": [
    "### Local surface example"
   ]
  },
  {
   "cell_type": "markdown",
   "metadata": {},
   "source": [
    "##### Forming variables"
   ]
  },
  {
   "cell_type": "code",
   "execution_count": 107,
   "metadata": {},
   "outputs": [],
   "source": [
    "def add(a,b):\n",
    "    return 1+((1/12)*(a+b))\n",
    "\n",
    "def con(u,v):\n",
    "    return (0*(u)*(v))+1\n",
    "\n",
    "def sp(u,v):\n",
    "    return 1+1/324*(36-(6-u/2)**2)*(36-(6-v/2)**2)\n",
    "\n",
    "def med(u,v):\n",
    "    B = np.zeros((25,25))\n",
    "    for i in range(25):\n",
    "        for j in range(25):\n",
    "            \n",
    "            if u[i][j]<=8:\n",
    "                B[i][j]=0.2\n",
    "            elif u[i][j]>17:\n",
    "                B[i][j]=0.7\n",
    "            else:\n",
    "                B[i][j]=0.5\n",
    "    return B"
   ]
  },
  {
   "cell_type": "code",
   "execution_count": 108,
   "metadata": {},
   "outputs": [],
   "source": [
    "x = np.linspace(0, 25, 25)\n",
    "y = np.linspace(25, 0, 25)\n",
    "X, Y = np.meshgrid(x, y)"
   ]
  },
  {
   "cell_type": "code",
   "execution_count": 109,
   "metadata": {},
   "outputs": [],
   "source": [
    "x1=np.random.normal(0,1,625)\n",
    "x2=np.random.normal(0,1,625)\n",
    "error = np.random.normal(0,0.1,625)\n",
    "#error =error-min(error)"
   ]
  },
  {
   "cell_type": "code",
   "execution_count": 110,
   "metadata": {},
   "outputs": [],
   "source": [
    "B0=con(X,Y)\n",
    "B1=sp(X,Y)\n",
    "B2=med(X,Y)"
   ]
  },
  {
   "cell_type": "code",
   "execution_count": 111,
   "metadata": {},
   "outputs": [
    {
     "data": {
      "text/plain": [
       "([], <a list of 0 Text yticklabel objects>)"
      ]
     },
     "execution_count": 111,
     "metadata": {},
     "output_type": "execute_result"
    },
    {
     "data": {
      "image/png": "[encoded data removed]",
      "text/plain": [
       "<Figure size 432x288 with 2 Axes>"
      ]
     },
     "metadata": {
      "needs_background": "light"
     },
     "output_type": "display_data"
    }
   ],
   "source": [
    "plt.imshow(B1, extent=[0,10, 0, 10], origin='lower',cmap='RdBu_r')\n",
    "plt.colorbar()\n",
    "plt.axis(aspect='image')\n",
    "plt.xticks([])\n",
    "plt.yticks([])"
   ]
  },
  {
   "cell_type": "code",
   "execution_count": 112,
   "metadata": {},
   "outputs": [
    {
     "data": {
      "text/plain": [
       "([], <a list of 0 Text yticklabel objects>)"
      ]
     },
     "execution_count": 112,
     "metadata": {},
     "output_type": "execute_result"
    },
    {
     "data": {
      "image/png": "[encoded data removed]",
      "text/plain": [
       "<Figure size 432x288 with 2 Axes>"
      ]
     },
     "metadata": {
      "needs_background": "light"
     },
     "output_type": "display_data"
    }
   ],
   "source": [
    "plt.imshow(B2, extent=[0,25, 0, 25], origin='lower',cmap='RdBu_r')\n",
    "plt.colorbar()\n",
    "plt.axis(aspect='image')\n",
    "plt.xticks([])\n",
    "plt.yticks([])"
   ]
  },
  {
   "cell_type": "code",
   "execution_count": 113,
   "metadata": {},
   "outputs": [],
   "source": [
    "B0=B0.reshape(-1,1)\n",
    "B1=B1.reshape(-1,1)\n",
    "B2=B2.reshape(-1,1)"
   ]
  },
  {
   "cell_type": "code",
   "execution_count": 114,
   "metadata": {},
   "outputs": [
    {
     "data": {
      "image/png": "[encoded data removed]",
      "text/plain": [
       "<Figure size 288x288 with 2 Axes>"
      ]
     },
     "metadata": {
      "needs_background": "light"
     },
     "output_type": "display_data"
    }
   ],
   "source": [
    "f, axes = plt.subplots(1, 2, figsize=(4, 4), sharex=True)\n",
    "sns.despine(left=True)\n",
    "sns.distplot(B0,ax=axes[0])\n",
    "sns.distplot(B1,ax=axes[1])\n",
    "\n",
    "plt.setp(axes, yticks=[])\n",
    "plt.tight_layout()"
   ]
  },
  {
   "cell_type": "code",
   "execution_count": 115,
   "metadata": {},
   "outputs": [
    {
     "data": {
      "text/plain": [
       "<matplotlib.axes._subplots.AxesSubplot at 0x20637ab9128>"
      ]
     },
     "execution_count": 115,
     "metadata": {},
     "output_type": "execute_result"
    },
    {
     "data": {
      "image/png": "[encoded data removed]",
      "text/plain": [
       "<Figure size 432x288 with 1 Axes>"
      ]
     },
     "metadata": {
      "needs_background": "light"
     },
     "output_type": "display_data"
    }
   ],
   "source": [
    "sns.distplot(B2)"
   ]
  },
  {
   "cell_type": "code",
   "execution_count": 116,
   "metadata": {},
   "outputs": [],
   "source": [
    "lat=Y.reshape(-1,1)\n",
    "lon=X.reshape(-1,1)"
   ]
  },
  {
   "cell_type": "code",
   "execution_count": 117,
   "metadata": {},
   "outputs": [],
   "source": [
    "x1=x1.reshape(-1,1)\n",
    "x2=x2.reshape(-1,1)"
   ]
  },
  {
   "cell_type": "code",
   "execution_count": 118,
   "metadata": {},
   "outputs": [],
   "source": [
    "param = np.hstack([B0,B1,B2])"
   ]
  },
  {
   "cell_type": "code",
   "execution_count": 119,
   "metadata": {},
   "outputs": [
    {
     "data": {
      "text/plain": [
       "(625, 3)"
      ]
     },
     "execution_count": 119,
     "metadata": {},
     "output_type": "execute_result"
    }
   ],
   "source": [
    "param.shape"
   ]
  },
  {
   "cell_type": "code",
   "execution_count": 120,
   "metadata": {},
   "outputs": [],
   "source": [
    "cons=np.ones_like(x1)"
   ]
  },
  {
   "cell_type": "code",
   "execution_count": 121,
   "metadata": {},
   "outputs": [],
   "source": [
    "cons=cons.reshape(-1,1)"
   ]
  },
  {
   "cell_type": "code",
   "execution_count": 122,
   "metadata": {},
   "outputs": [],
   "source": [
    "X=np.hstack([cons,x1,x2])"
   ]
  },
  {
   "cell_type": "code",
   "execution_count": 123,
   "metadata": {},
   "outputs": [
    {
     "data": {
      "text/plain": [
       "(625, 3)"
      ]
     },
     "execution_count": 123,
     "metadata": {},
     "output_type": "execute_result"
    }
   ],
   "source": [
    "X.shape"
   ]
  },
  {
   "cell_type": "code",
   "execution_count": 124,
   "metadata": {},
   "outputs": [],
   "source": [
    "#binomial y\n",
    "y_exp=((np.exp(np.sum(X * param, axis=1)+error)/(1+(np.exp(np.sum(X * param, axis=1)+error))))).reshape(-1,1)"
   ]
  },
  {
   "cell_type": "code",
   "execution_count": 125,
   "metadata": {},
   "outputs": [
    {
     "data": {
      "text/plain": [
       "0.6476985584386308"
      ]
     },
     "execution_count": 125,
     "metadata": {},
     "output_type": "execute_result"
    }
   ],
   "source": [
    "np.mean(y_exp)"
   ]
  },
  {
   "cell_type": "code",
   "execution_count": 126,
   "metadata": {},
   "outputs": [
    {
     "data": {
      "text/plain": [
       "(625, 1)"
      ]
     },
     "execution_count": 126,
     "metadata": {},
     "output_type": "execute_result"
    }
   ],
   "source": [
    "y_exp.shape"
   ]
  },
  {
   "cell_type": "code",
   "execution_count": 127,
   "metadata": {},
   "outputs": [
    {
     "data": {
      "text/plain": [
       "<matplotlib.axes._subplots.AxesSubplot at 0x20637e35cc0>"
      ]
     },
     "execution_count": 127,
     "metadata": {},
     "output_type": "execute_result"
    },
    {
     "data": {
      "image/png": "[encoded data removed]",
      "text/plain": [
       "<Figure size 432x288 with 1 Axes>"
      ]
     },
     "metadata": {
      "needs_background": "light"
     },
     "output_type": "display_data"
    }
   ],
   "source": [
    "sns.distplot(y_exp)"
   ]
  },
  {
   "cell_type": "code",
   "execution_count": 128,
   "metadata": {},
   "outputs": [],
   "source": [
    "y = np.random.binomial(1,y_exp)"
   ]
  },
  {
   "cell_type": "code",
   "execution_count": 129,
   "metadata": {},
   "outputs": [
    {
     "data": {
      "text/plain": [
       "<matplotlib.axes._subplots.AxesSubplot at 0x206398b4860>"
      ]
     },
     "execution_count": 129,
     "metadata": {},
     "output_type": "execute_result"
    },
    {
     "data": {
      "image/png": "[encoded data removed]",
      "text/plain": [
       "<Figure size 432x288 with 1 Axes>"
      ]
     },
     "metadata": {
      "needs_background": "light"
     },
     "output_type": "display_data"
    }
   ],
   "source": [
    "pd.Series(y_exp.reshape(-1), index=x1).plot(style='.')"
   ]
  },
  {
   "cell_type": "code",
   "execution_count": 130,
   "metadata": {},
   "outputs": [
    {
     "data": {
      "text/plain": [
       "<matplotlib.axes._subplots.AxesSubplot at 0x206398fdf60>"
      ]
     },
     "execution_count": 130,
     "metadata": {},
     "output_type": "execute_result"
    },
    {
     "data": {
      "image/png": "[encoded data removed]",
      "text/plain": [
       "<Figure size 432x288 with 1 Axes>"
      ]
     },
     "metadata": {
      "needs_background": "light"
     },
     "output_type": "display_data"
    }
   ],
   "source": [
    "pd.Series(y.reshape(-1), index=x1).plot(style='.')"
   ]
  },
  {
   "cell_type": "code",
   "execution_count": 140,
   "metadata": {},
   "outputs": [],
   "source": [
    "coords = np.array(list(zip(lon,lat)))\n",
    "y = np.array(y).reshape((-1,1))\n",
    "#y_std = (y-y.mean(axis=0))/y.std(axis=0)"
   ]
  },
  {
   "cell_type": "code",
   "execution_count": 141,
   "metadata": {},
   "outputs": [],
   "source": [
    "X=np.hstack([x1,x2])\n",
    "#X_std = (X-X.mean(axis=0))/X.std(axis=0)"
   ]
  },
  {
   "cell_type": "code",
   "execution_count": 142,
   "metadata": {},
   "outputs": [],
   "source": [
    "bw=Sel_BW(coords,y,X,family=Binomial())\n",
    "bw=bw.search()\n",
    "gwr_model=GWR(coords,y,X,bw,family=Binomial()).fit()"
   ]
  },
  {
   "cell_type": "code",
   "execution_count": 143,
   "metadata": {},
   "outputs": [
    {
     "data": {
      "text/plain": [
       "202.0"
      ]
     },
     "execution_count": 143,
     "metadata": {},
     "output_type": "execute_result"
    }
   ],
   "source": [
    "bw"
   ]
  },
  {
   "cell_type": "code",
   "execution_count": 144,
   "metadata": {},
   "outputs": [
    {
     "data": {
      "text/plain": [
       "512.4714217716851"
      ]
     },
     "execution_count": 144,
     "metadata": {},
     "output_type": "execute_result"
    }
   ],
   "source": [
    "gwr_model.aic"
   ]
  },
  {
   "cell_type": "code",
   "execution_count": 145,
   "metadata": {},
   "outputs": [],
   "source": [
    "selector=Sel_BW(coords,y,X,multi=True,family=Binomial())"
   ]
  },
  {
   "cell_type": "code",
   "execution_count": 146,
   "metadata": {},
   "outputs": [
    {
     "name": "stdout",
     "output_type": "stream",
     "text": [
      "Current iteration: 1 ,SOC: 0.0291509\n",
      "Bandwidths: 622.0, 152.0, 487.0\n",
      "Current iteration: 2 ,SOC: 0.0715038\n",
      "Bandwidths: 387.0, 164.0, 350.0\n",
      "Current iteration: 3 ,SOC: 0.0050786\n",
      "Bandwidths: 422.0, 169.0, 350.0\n",
      "Current iteration: 4 ,SOC: 0.0013306\n",
      "Bandwidths: 387.0, 169.0, 350.0\n",
      "Current iteration: 5 ,SOC: 0.0005491\n",
      "Bandwidths: 422.0, 169.0, 350.0\n",
      "Current iteration: 6 ,SOC: 0.0002107\n",
      "Bandwidths: 422.0, 169.0, 350.0\n",
      "Current iteration: 7 ,SOC: 0.000125\n",
      "Bandwidths: 422.0, 169.0, 350.0\n",
      "Current iteration: 8 ,SOC: 7.42e-05\n",
      "Bandwidths: 422.0, 169.0, 350.0\n",
      "Current iteration: 9 ,SOC: 4.49e-05\n",
      "Bandwidths: 422.0, 169.0, 350.0\n",
      "Current iteration: 10 ,SOC: 2.72e-05\n",
      "Bandwidths: 422.0, 169.0, 350.0\n",
      "Current iteration: 11 ,SOC: 1.66e-05\n",
      "Bandwidths: 422.0, 169.0, 350.0\n",
      "Current iteration: 12 ,SOC: 1.02e-05\n",
      "Bandwidths: 422.0, 169.0, 350.0\n",
      "Current iteration: 13 ,SOC: 6.3e-06\n",
      "Bandwidths: 422.0, 169.0, 350.0\n"
     ]
    },
    {
     "data": {
      "text/plain": [
       "array([422., 169., 350.])"
      ]
     },
     "execution_count": 146,
     "metadata": {},
     "output_type": "execute_result"
    }
   ],
   "source": [
    "selector.search(verbose=True)"
   ]
  },
  {
   "cell_type": "code",
   "execution_count": 147,
   "metadata": {},
   "outputs": [
    {
     "data": {
      "application/vnd.jupyter.widget-view+json": {
       "model_id": "e241e17410b74d31907baee8bd5eb4f1",
       "version_major": 2,
       "version_minor": 0
      },
      "text/plain": [
       "HBox(children=(IntProgress(value=0, description='Inference', max=1), HTML(value='')))"
      ]
     },
     "metadata": {},
     "output_type": "display_data"
    },
    {
     "name": "stdout",
     "output_type": "stream",
     "text": [
      "\n"
     ]
    }
   ],
   "source": [
    "mgwr_model=MGWR(coords,y,X,selector,family=Binomial()).fit()"
   ]
  },
  {
   "cell_type": "code",
   "execution_count": 149,
   "metadata": {},
   "outputs": [
    {
     "data": {
      "text/plain": [
       "(499.1946901776626, 514.5087761611775)"
      ]
     },
     "execution_count": 149,
     "metadata": {},
     "output_type": "execute_result"
    }
   ],
   "source": [
    "mgwr_model.aicc,gwr_model.aicc"
   ]
  }
 ],
 "metadata": {
  "kernelspec": {
   "display_name": "Python 3",
   "language": "python",
   "name": "python3"
  },
  "language_info": {
   "codemirror_mode": {
    "name": "ipython",
    "version": 3
   },
   "file_extension": ".py",
   "mimetype": "text/x-python",
   "name": "python",
   "nbconvert_exporter": "python",
   "pygments_lexer": "ipython3",
   "version": "3.6.6"
  }
 },
 "nbformat": 4,
 "nbformat_minor": 2
}
