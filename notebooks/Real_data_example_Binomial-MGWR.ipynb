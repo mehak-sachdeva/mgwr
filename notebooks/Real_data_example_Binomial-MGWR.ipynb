{
 "cells": [
  {
   "cell_type": "markdown",
   "metadata": {},
   "source": [
    "https://github.com/pysal/mgwr/pull/60"
   ]
  },
  {
   "cell_type": "code",
   "execution_count": 9,
   "metadata": {},
   "outputs": [],
   "source": [
    "import sys\n",
    "sys.path.append(\"C:/Users/msachde1/Downloads/Research/Development/mgwr\")"
   ]
  },
  {
   "cell_type": "code",
   "execution_count": 10,
   "metadata": {},
   "outputs": [],
   "source": [
    "import warnings\n",
    "warnings.filterwarnings(\"ignore\")\n",
    "import pandas as pd\n",
    "import numpy as np\n",
    "\n",
    "from mgwr.gwr import GWR\n",
    "from spglm.family import Gaussian, Binomial, Poisson\n",
    "from mgwr.gwr import MGWR\n",
    "from mgwr.sel_bw import Sel_BW\n",
    "import multiprocessing as mp\n",
    "pool = mp.Pool()\n",
    "from scipy import linalg\n",
    "import numpy.linalg as la\n",
    "from scipy import sparse as sp\n",
    "from scipy.sparse import linalg as spla\n",
    "from spreg.utils import spdot, spmultiply\n",
    "from scipy import special\n",
    "import libpysal as ps\n",
    "import seaborn as sns\n",
    "import matplotlib.pyplot as plt\n",
    "from copy import deepcopy\n",
    "import copy\n",
    "from collections import namedtuple\n",
    "import spglm"
   ]
  },
  {
   "cell_type": "markdown",
   "metadata": {},
   "source": [
    "#### Clearwater data - downloaded from link: https://sgsup.asu.edu/sparc/multiscale-gwr"
   ]
  },
  {
   "cell_type": "code",
   "execution_count": 11,
   "metadata": {
    "scrolled": true
   },
   "outputs": [],
   "source": [
    "data_p = pd.read_csv(\"C:/Users/msachde1/Downloads/logistic_mgwr_data/landslides.csv\") "
   ]
  },
  {
   "cell_type": "code",
   "execution_count": 12,
   "metadata": {},
   "outputs": [
    {
     "data": {
      "text/html": [
       "<div>\n",
       "<style scoped>\n",
       "    .dataframe tbody tr th:only-of-type {\n",
       "        vertical-align: middle;\n",
       "    }\n",
       "\n",
       "    .dataframe tbody tr th {\n",
       "        vertical-align: top;\n",
       "    }\n",
       "\n",
       "    .dataframe thead th {\n",
       "        text-align: right;\n",
       "    }\n",
       "</style>\n",
       "<table border=\"1\" class=\"dataframe\">\n",
       "  <thead>\n",
       "    <tr style=\"text-align: right;\">\n",
       "      <th></th>\n",
       "      <th>UserID</th>\n",
       "      <th>X</th>\n",
       "      <th>Y</th>\n",
       "      <th>Elev</th>\n",
       "      <th>Slope</th>\n",
       "      <th>SinAspct</th>\n",
       "      <th>CosAspct</th>\n",
       "      <th>AbsSouth</th>\n",
       "      <th>Landslid</th>\n",
       "      <th>DistStrm</th>\n",
       "    </tr>\n",
       "  </thead>\n",
       "  <tbody>\n",
       "    <tr>\n",
       "      <th>0</th>\n",
       "      <td>1</td>\n",
       "      <td>616168.5625</td>\n",
       "      <td>5201076.5</td>\n",
       "      <td>1450.475</td>\n",
       "      <td>27.44172</td>\n",
       "      <td>0.409126</td>\n",
       "      <td>-0.912478</td>\n",
       "      <td>24.1499</td>\n",
       "      <td>1</td>\n",
       "      <td>8.506</td>\n",
       "    </tr>\n",
       "    <tr>\n",
       "      <th>1</th>\n",
       "      <td>2</td>\n",
       "      <td>624923.8125</td>\n",
       "      <td>5201008.5</td>\n",
       "      <td>1567.476</td>\n",
       "      <td>21.88343</td>\n",
       "      <td>-0.919245</td>\n",
       "      <td>-0.393685</td>\n",
       "      <td>66.8160</td>\n",
       "      <td>1</td>\n",
       "      <td>15.561</td>\n",
       "    </tr>\n",
       "    <tr>\n",
       "      <th>2</th>\n",
       "      <td>3</td>\n",
       "      <td>615672.0000</td>\n",
       "      <td>5199187.5</td>\n",
       "      <td>1515.065</td>\n",
       "      <td>38.81030</td>\n",
       "      <td>-0.535024</td>\n",
       "      <td>-0.844837</td>\n",
       "      <td>32.3455</td>\n",
       "      <td>1</td>\n",
       "      <td>41.238</td>\n",
       "    </tr>\n",
       "    <tr>\n",
       "      <th>3</th>\n",
       "      <td>4</td>\n",
       "      <td>615209.3125</td>\n",
       "      <td>5199112.0</td>\n",
       "      <td>1459.827</td>\n",
       "      <td>26.71631</td>\n",
       "      <td>-0.828548</td>\n",
       "      <td>-0.559918</td>\n",
       "      <td>55.9499</td>\n",
       "      <td>1</td>\n",
       "      <td>17.539</td>\n",
       "    </tr>\n",
       "    <tr>\n",
       "      <th>4</th>\n",
       "      <td>5</td>\n",
       "      <td>616354.6875</td>\n",
       "      <td>5198945.5</td>\n",
       "      <td>1379.442</td>\n",
       "      <td>27.55271</td>\n",
       "      <td>-0.872281</td>\n",
       "      <td>-0.489005</td>\n",
       "      <td>60.7248</td>\n",
       "      <td>1</td>\n",
       "      <td>35.023</td>\n",
       "    </tr>\n",
       "  </tbody>\n",
       "</table>\n",
       "</div>"
      ],
      "text/plain": [
       "   UserID            X          Y      Elev     Slope  SinAspct  CosAspct  \\\n",
       "0       1  616168.5625  5201076.5  1450.475  27.44172  0.409126 -0.912478   \n",
       "1       2  624923.8125  5201008.5  1567.476  21.88343 -0.919245 -0.393685   \n",
       "2       3  615672.0000  5199187.5  1515.065  38.81030 -0.535024 -0.844837   \n",
       "3       4  615209.3125  5199112.0  1459.827  26.71631 -0.828548 -0.559918   \n",
       "4       5  616354.6875  5198945.5  1379.442  27.55271 -0.872281 -0.489005   \n",
       "\n",
       "   AbsSouth  Landslid  DistStrm  \n",
       "0   24.1499         1     8.506  \n",
       "1   66.8160         1    15.561  \n",
       "2   32.3455         1    41.238  \n",
       "3   55.9499         1    17.539  \n",
       "4   60.7248         1    35.023  "
      ]
     },
     "execution_count": 12,
     "metadata": {},
     "output_type": "execute_result"
    }
   ],
   "source": [
    "data_p.head()"
   ]
  },
  {
   "cell_type": "markdown",
   "metadata": {},
   "source": [
    "### GWR Binomial model with independent variable, x = slope"
   ]
  },
  {
   "cell_type": "code",
   "execution_count": 13,
   "metadata": {},
   "outputs": [],
   "source": [
    "coords = list(zip(data_p['X'],data_p['Y']))\n",
    "y = np.array(data_p['Landslid']).reshape((-1,1)) \n",
    "elev = np.array(data_p['Elev']).reshape((-1,1))\n",
    "slope = np.array(data_p['Slope']).reshape((-1,1))\n",
    "SinAspct = np.array(data_p['SinAspct']).reshape(-1,1)\n",
    "CosAspct = np.array(data_p['CosAspct']).reshape(-1,1)\n",
    "X = np.hstack([elev,slope,SinAspct,CosAspct])\n",
    "x = CosAspct\n",
    "\n",
    "X_std = (X-X.mean(axis=0))/X.std(axis=0)\n",
    "x_std = (x-x.mean(axis=0))/x.std(axis=0)\n",
    "y_std = (y-y.mean(axis=0))/y.std(axis=0)"
   ]
  },
  {
   "cell_type": "code",
   "execution_count": 18,
   "metadata": {},
   "outputs": [
    {
     "data": {
      "text/plain": [
       "70.0"
      ]
     },
     "execution_count": 18,
     "metadata": {},
     "output_type": "execute_result"
    }
   ],
   "source": [
    "bw=Sel_BW(coords,y,x_std,family=Binomial(),constant=True).search()\n",
    "gwr_mod=GWR(coords,y,x_std,bw=bw,family=Binomial(),constant=True).fit()\n",
    "bw"
   ]
  },
  {
   "cell_type": "markdown",
   "metadata": {},
   "source": [
    "##### Running the function with family = Binomial()"
   ]
  },
  {
   "cell_type": "code",
   "execution_count": 19,
   "metadata": {},
   "outputs": [
    {
     "name": "stdout",
     "output_type": "stream",
     "text": [
      "Current iteration: 1 ,SOC: 0.0329294\n",
      "Bandwidths: 43.0, 108.0\n",
      "Current iteration: 2 ,SOC: 0.0102171\n",
      "Bandwidths: 43.0, 121.0\n",
      "Current iteration: 3 ,SOC: 0.003753\n",
      "Bandwidths: 43.0, 121.0\n",
      "Current iteration: 4 ,SOC: 0.000857\n",
      "Bandwidths: 43.0, 121.0\n",
      "Current iteration: 5 ,SOC: 0.0002682\n",
      "Bandwidths: 43.0, 121.0\n",
      "Current iteration: 6 ,SOC: 0.0001019\n",
      "Bandwidths: 43.0, 121.0\n",
      "Current iteration: 7 ,SOC: 2.8e-05\n",
      "Bandwidths: 43.0, 121.0\n",
      "Current iteration: 8 ,SOC: 8.9e-06\n",
      "Bandwidths: 43.0, 121.0\n"
     ]
    },
    {
     "data": {
      "text/plain": [
       "array([ 43., 121.])"
      ]
     },
     "execution_count": 19,
     "metadata": {},
     "output_type": "execute_result"
    }
   ],
   "source": [
    "selector = Sel_BW(coords,y,x_std,family=Binomial(),multi=True,constant=True)\n",
    "selector.search(verbose=True)"
   ]
  },
  {
   "cell_type": "code",
   "execution_count": 20,
   "metadata": {},
   "outputs": [
    {
     "data": {
      "application/vnd.jupyter.widget-view+json": {
       "model_id": "465ec0c3d4e74e5e9051f6136f6ecd5a",
       "version_major": 2,
       "version_minor": 0
      },
      "text/plain": [
       "HBox(children=(IntProgress(value=0, description='Inference', max=1), HTML(value='')))"
      ]
     },
     "metadata": {},
     "output_type": "display_data"
    },
    {
     "name": "stdout",
     "output_type": "stream",
     "text": [
      "\n"
     ]
    }
   ],
   "source": [
    "mgwr_mod = MGWR(coords, y,x_std,selector,family=Binomial(),constant=True).fit()"
   ]
  },
  {
   "cell_type": "code",
   "execution_count": 21,
   "metadata": {},
   "outputs": [
    {
     "data": {
      "text/plain": [
       "259.4259231912246"
      ]
     },
     "execution_count": 21,
     "metadata": {},
     "output_type": "execute_result"
    }
   ],
   "source": [
    "mgwr_mod.bic"
   ]
  },
  {
   "cell_type": "code",
   "execution_count": 22,
   "metadata": {},
   "outputs": [
    {
     "data": {
      "text/plain": [
       "367.74360890575866"
      ]
     },
     "execution_count": 22,
     "metadata": {},
     "output_type": "execute_result"
    }
   ],
   "source": [
    "gwr_mod.bic"
   ]
  },
  {
   "cell_type": "code",
   "execution_count": 27,
   "metadata": {},
   "outputs": [
    {
     "data": {
      "text/plain": [
       "array([[ 5.43587477e-02],\n",
       "       [ 3.50984892e-02],\n",
       "       [ 6.97002365e-02],\n",
       "       [ 9.92455319e-02],\n",
       "       [ 8.21845716e-02],\n",
       "       [ 7.23566189e-02],\n",
       "       [ 4.97091452e-02],\n",
       "       [ 9.61095886e-02],\n",
       "       [ 1.29691855e-01],\n",
       "       [ 9.15624050e-02],\n",
       "       [ 7.65380602e-02],\n",
       "       [ 4.77719579e-02],\n",
       "       [ 4.28259444e-02],\n",
       "       [ 1.06149574e-01],\n",
       "       [-5.05901412e-02],\n",
       "       [-6.80163124e-02],\n",
       "       [ 1.74201024e-01],\n",
       "       [ 9.52572969e-02],\n",
       "       [ 1.71968519e-01],\n",
       "       [ 6.25317962e-02],\n",
       "       [ 1.63916418e-01],\n",
       "       [ 1.03138957e-01],\n",
       "       [ 1.74192567e-01],\n",
       "       [ 1.35120377e-01],\n",
       "       [ 9.66095114e-02],\n",
       "       [ 9.52747981e-02],\n",
       "       [-1.19955166e-01],\n",
       "       [ 1.22896447e-01],\n",
       "       [ 1.28772698e-01],\n",
       "       [ 4.28704831e-02],\n",
       "       [ 1.61693089e-01],\n",
       "       [-1.83347394e-02],\n",
       "       [-2.42456015e-02],\n",
       "       [-1.76216884e-02],\n",
       "       [-1.27793892e-02],\n",
       "       [ 1.01490246e-01],\n",
       "       [ 1.09883229e-01],\n",
       "       [ 1.12773653e-01],\n",
       "       [ 1.15626839e-01],\n",
       "       [ 5.60336162e-02],\n",
       "       [ 9.31685702e-02],\n",
       "       [ 9.63783926e-02],\n",
       "       [-5.24292437e-02],\n",
       "       [ 2.50056117e-02],\n",
       "       [-7.24053018e-02],\n",
       "       [ 1.91980173e-02],\n",
       "       [ 1.15564539e-02],\n",
       "       [ 1.16650306e-02],\n",
       "       [-5.33921755e-02],\n",
       "       [-1.61470257e-02],\n",
       "       [ 1.33482300e-01],\n",
       "       [ 5.75900338e-02],\n",
       "       [ 3.96563267e-02],\n",
       "       [ 1.05158513e-01],\n",
       "       [ 1.39677299e-01],\n",
       "       [ 1.13036856e-01],\n",
       "       [ 1.06935065e-01],\n",
       "       [ 1.50486781e-01],\n",
       "       [ 5.78022312e-02],\n",
       "       [ 5.59218432e-02],\n",
       "       [ 1.73447371e-01],\n",
       "       [ 1.59958976e-01],\n",
       "       [ 1.60075318e-01],\n",
       "       [ 1.77498262e-01],\n",
       "       [ 1.73003326e-01],\n",
       "       [ 1.55706465e-01],\n",
       "       [ 1.53637684e-01],\n",
       "       [ 1.45331867e-01],\n",
       "       [ 5.44375852e-02],\n",
       "       [ 1.05010128e-01],\n",
       "       [ 1.10200269e-01],\n",
       "       [ 1.13447294e-01],\n",
       "       [ 7.96039802e-02],\n",
       "       [ 1.10743569e-01],\n",
       "       [ 1.01232812e-01],\n",
       "       [ 1.01091418e-01],\n",
       "       [ 1.00142292e-01],\n",
       "       [ 1.25116965e-01],\n",
       "       [ 8.94580130e-02],\n",
       "       [ 2.73404963e-03],\n",
       "       [ 3.79079771e-02],\n",
       "       [-6.06494339e-02],\n",
       "       [ 5.62027535e-02],\n",
       "       [ 1.20312313e-01],\n",
       "       [ 9.17186906e-02],\n",
       "       [ 9.15785505e-02],\n",
       "       [ 1.97182962e-01],\n",
       "       [ 1.81686999e-01],\n",
       "       [-2.79613841e-02],\n",
       "       [ 1.39252047e-01],\n",
       "       [ 1.17413914e-01],\n",
       "       [ 1.21703510e-01],\n",
       "       [ 4.18135249e-02],\n",
       "       [ 2.48344726e-02],\n",
       "       [ 1.27861795e-01],\n",
       "       [ 1.52038666e-01],\n",
       "       [ 1.45132176e-01],\n",
       "       [-7.43621135e-03],\n",
       "       [ 5.92892827e-02],\n",
       "       [-2.98936546e-02],\n",
       "       [ 1.17144538e-01],\n",
       "       [ 1.15133238e-01],\n",
       "       [ 8.24196210e-02],\n",
       "       [ 3.13717526e-02],\n",
       "       [-1.79175621e-01],\n",
       "       [ 3.93637496e-02],\n",
       "       [ 1.45309991e-01],\n",
       "       [ 1.88046543e-01],\n",
       "       [ 1.59807132e-01],\n",
       "       [ 4.66488915e-02],\n",
       "       [ 7.27593532e-02],\n",
       "       [ 4.04173065e-02],\n",
       "       [ 6.63347057e-02],\n",
       "       [ 6.49175231e-02],\n",
       "       [ 6.64834490e-02],\n",
       "       [ 6.93547926e-02],\n",
       "       [ 3.53437073e-02],\n",
       "       [ 3.80619541e-02],\n",
       "       [ 2.91895708e-02],\n",
       "       [ 5.61773559e-02],\n",
       "       [ 5.23587776e-02],\n",
       "       [ 5.37027015e-02],\n",
       "       [ 6.59697071e-02],\n",
       "       [ 1.33360934e-01],\n",
       "       [ 1.62893288e-01],\n",
       "       [ 1.14554895e-01],\n",
       "       [-1.57754525e-01],\n",
       "       [ 2.17952676e-02],\n",
       "       [ 1.32034065e-01],\n",
       "       [ 1.32479172e-01],\n",
       "       [ 2.25338135e-02],\n",
       "       [ 4.43969412e-02],\n",
       "       [ 2.35270351e-02],\n",
       "       [ 1.80155303e-01],\n",
       "       [ 1.45094755e-01],\n",
       "       [ 1.61942956e-01],\n",
       "       [ 1.30490737e-01],\n",
       "       [ 1.08362646e-01],\n",
       "       [-3.21867756e-02],\n",
       "       [-1.36891670e-02],\n",
       "       [-8.36902384e-02],\n",
       "       [ 2.95246296e-04],\n",
       "       [-1.08690889e-02],\n",
       "       [-4.83385995e-02],\n",
       "       [-6.13432675e-02],\n",
       "       [-3.44663426e-02],\n",
       "       [ 6.15417697e-02],\n",
       "       [-1.56357011e-01],\n",
       "       [-1.74206041e-03],\n",
       "       [-2.78598421e-02],\n",
       "       [-2.74654455e-02],\n",
       "       [ 1.12200439e-01],\n",
       "       [-1.02074148e-01],\n",
       "       [ 6.43873485e-02],\n",
       "       [ 1.08845204e-01],\n",
       "       [-7.15131816e-02],\n",
       "       [-1.67089533e-01],\n",
       "       [-8.52603627e-02],\n",
       "       [ 2.58904810e-01],\n",
       "       [ 5.75145540e-04],\n",
       "       [-1.83102198e-01],\n",
       "       [-3.80626365e-01],\n",
       "       [-3.29280217e-02],\n",
       "       [ 1.02945733e-02],\n",
       "       [ 3.90990357e-02],\n",
       "       [-4.68603154e-04],\n",
       "       [-2.66125864e-02],\n",
       "       [-1.86170730e-02],\n",
       "       [-1.91748675e-01],\n",
       "       [-1.72274150e-02],\n",
       "       [ 1.03093430e-01],\n",
       "       [-2.50522852e-02],\n",
       "       [-4.52014508e-02],\n",
       "       [-1.23120856e-01],\n",
       "       [-5.68007256e-02],\n",
       "       [ 6.99275222e-02],\n",
       "       [ 1.03931746e-03],\n",
       "       [ 9.87887224e-02],\n",
       "       [-1.49664327e-01],\n",
       "       [-2.13152688e-03],\n",
       "       [-9.17757898e-02],\n",
       "       [ 2.00793221e-02],\n",
       "       [-2.01138535e-01],\n",
       "       [-9.05229270e-03],\n",
       "       [ 5.94391489e-02],\n",
       "       [ 9.60970795e-02],\n",
       "       [-1.02087749e-01],\n",
       "       [-2.70131810e-02],\n",
       "       [-2.37727588e-01],\n",
       "       [-1.32937934e-01],\n",
       "       [ 5.30401580e-02],\n",
       "       [ 3.86980818e-02],\n",
       "       [ 9.14353254e-03],\n",
       "       [ 1.86455406e-01],\n",
       "       [ 6.62625368e-03],\n",
       "       [-2.35785527e-02],\n",
       "       [-7.45273948e-02],\n",
       "       [ 7.42161224e-02],\n",
       "       [-4.76623779e-02],\n",
       "       [-1.67988072e-01],\n",
       "       [ 1.00378850e-01],\n",
       "       [ 6.86375560e-02],\n",
       "       [ 3.92632503e-02],\n",
       "       [-2.40409927e-01],\n",
       "       [-5.59271923e-02],\n",
       "       [-1.44563570e-03],\n",
       "       [ 9.66933302e-02],\n",
       "       [ 8.30616715e-02],\n",
       "       [-4.50674167e-02],\n",
       "       [-1.77117593e-02],\n",
       "       [ 6.18286131e-02],\n",
       "       [ 8.68125434e-04],\n",
       "       [ 1.38968913e-01],\n",
       "       [ 1.01404960e-01],\n",
       "       [-1.99518054e-01],\n",
       "       [ 2.89269359e-02],\n",
       "       [-1.02769745e-01],\n",
       "       [-5.28965910e-02],\n",
       "       [-7.34997017e-02],\n",
       "       [-1.41211300e-02],\n",
       "       [ 9.97828823e-02],\n",
       "       [-1.27411658e-01],\n",
       "       [-3.77942574e-02],\n",
       "       [ 3.66935607e-02],\n",
       "       [ 5.84369954e-02],\n",
       "       [ 1.03359495e-01],\n",
       "       [-2.15800158e-01],\n",
       "       [ 8.41251354e-02],\n",
       "       [-2.40847726e-03],\n",
       "       [ 4.07560815e-02],\n",
       "       [-6.81597521e-02],\n",
       "       [-7.52507604e-02],\n",
       "       [-8.61751238e-03],\n",
       "       [ 1.38155646e-01],\n",
       "       [ 1.65846298e-01],\n",
       "       [ 3.60428993e-02],\n",
       "       [-1.67565756e-01],\n",
       "       [ 1.74451066e-01],\n",
       "       [ 1.05867013e-01]])"
      ]
     },
     "execution_count": 27,
     "metadata": {},
     "output_type": "execute_result"
    }
   ],
   "source": [
    "mgwr_mod.predy-gwr_mod.predy"
   ]
  },
  {
   "cell_type": "markdown",
   "metadata": {},
   "source": [
    "#### Multiple bandwidth check"
   ]
  },
  {
   "cell_type": "code",
   "execution_count": 28,
   "metadata": {},
   "outputs": [
    {
     "data": {
      "text/plain": [
       "121.0"
      ]
     },
     "execution_count": 28,
     "metadata": {},
     "output_type": "execute_result"
    }
   ],
   "source": [
    "bw=Sel_BW(coords,y,X_std,family=Binomial(),constant=True).search()\n",
    "gwr_mod=GWR(coords,y,X_std,bw=bw,family=Binomial(),constant=True).fit()\n",
    "bw"
   ]
  },
  {
   "cell_type": "markdown",
   "metadata": {},
   "source": [
    "### Checking parameters"
   ]
  },
  {
   "cell_type": "code",
   "execution_count": 30,
   "metadata": {},
   "outputs": [
    {
     "name": "stdout",
     "output_type": "stream",
     "text": [
      "Current iteration: 1 ,SOC: 0.061895\n",
      "Bandwidths: 43.0, 56.0, 190.0, 120.0, 184.0\n",
      "Current iteration: 2 ,SOC: 0.0192169\n",
      "Bandwidths: 43.0, 46.0, 203.0, 120.0, 184.0\n",
      "Current iteration: 3 ,SOC: 0.0071117\n",
      "Bandwidths: 43.0, 46.0, 199.0, 120.0, 184.0\n",
      "Current iteration: 4 ,SOC: 0.0008658\n",
      "Bandwidths: 43.0, 46.0, 199.0, 120.0, 184.0\n",
      "Current iteration: 5 ,SOC: 0.0002242\n",
      "Bandwidths: 43.0, 46.0, 199.0, 120.0, 184.0\n",
      "Current iteration: 6 ,SOC: 7.41e-05\n",
      "Bandwidths: 43.0, 46.0, 199.0, 120.0, 184.0\n",
      "Current iteration: 7 ,SOC: 2.97e-05\n",
      "Bandwidths: 43.0, 46.0, 199.0, 120.0, 184.0\n",
      "Current iteration: 8 ,SOC: 1.26e-05\n",
      "Bandwidths: 43.0, 46.0, 199.0, 120.0, 184.0\n",
      "Current iteration: 9 ,SOC: 5.6e-06\n",
      "Bandwidths: 43.0, 46.0, 199.0, 120.0, 184.0\n"
     ]
    },
    {
     "data": {
      "text/plain": [
       "array([ 43.,  46., 199., 120., 184.])"
      ]
     },
     "execution_count": 30,
     "metadata": {},
     "output_type": "execute_result"
    }
   ],
   "source": [
    "selector = Sel_BW(coords,y,X_std,family=Binomial(),multi=True,constant=True)\n",
    "selector.search(verbose=True)"
   ]
  },
  {
   "cell_type": "code",
   "execution_count": 31,
   "metadata": {},
   "outputs": [
    {
     "data": {
      "application/vnd.jupyter.widget-view+json": {
       "model_id": "6e9e2ab0a0c14a408fde20d0ad9f3dfe",
       "version_major": 2,
       "version_minor": 0
      },
      "text/plain": [
       "HBox(children=(IntProgress(value=0, description='Inference', max=1), HTML(value='')))"
      ]
     },
     "metadata": {},
     "output_type": "display_data"
    },
    {
     "name": "stdout",
     "output_type": "stream",
     "text": [
      "\n"
     ]
    }
   ],
   "source": [
    "mgwr_mod = MGWR(coords, y,X_std,selector,family=Binomial(),constant=True).fit()"
   ]
  },
  {
   "cell_type": "code",
   "execution_count": 33,
   "metadata": {},
   "outputs": [
    {
     "data": {
      "text/plain": [
       "(264.9819711678866, 236.74179310353603)"
      ]
     },
     "execution_count": 33,
     "metadata": {},
     "output_type": "execute_result"
    }
   ],
   "source": [
    "gwr_mod.aicc, mgwr_mod.aicc"
   ]
  },
  {
   "cell_type": "markdown",
   "metadata": {},
   "source": [
    "#### Global model check"
   ]
  },
  {
   "cell_type": "code",
   "execution_count": 34,
   "metadata": {},
   "outputs": [
    {
     "name": "stdout",
     "output_type": "stream",
     "text": [
      "Current iteration: 1 ,SOC: 0.1355639\n",
      "Bandwidths: 239.0, 239.0, 239.0, 239.0, 239.0\n",
      "Current iteration: 2 ,SOC: 0.0355616\n",
      "Bandwidths: 239.0, 239.0, 239.0, 239.0, 239.0\n",
      "Current iteration: 3 ,SOC: 0.0077361\n",
      "Bandwidths: 239.0, 239.0, 239.0, 239.0, 239.0\n",
      "Current iteration: 4 ,SOC: 0.0005525\n",
      "Bandwidths: 239.0, 239.0, 239.0, 239.0, 239.0\n",
      "Current iteration: 5 ,SOC: 8.1e-05\n",
      "Bandwidths: 239.0, 239.0, 239.0, 239.0, 239.0\n",
      "Current iteration: 6 ,SOC: 1.77e-05\n",
      "Bandwidths: 239.0, 239.0, 239.0, 239.0, 239.0\n",
      "Current iteration: 7 ,SOC: 4.4e-06\n",
      "Bandwidths: 239.0, 239.0, 239.0, 239.0, 239.0\n"
     ]
    },
    {
     "data": {
      "text/plain": [
       "array([239., 239., 239., 239., 239.])"
      ]
     },
     "execution_count": 34,
     "metadata": {},
     "output_type": "execute_result"
    }
   ],
   "source": [
    "selector=Sel_BW(coords,y,X_std,multi=True,family=Binomial(),constant=True)\n",
    "selector.search(verbose=True,multi_bw_min=[239,239,239,239,239], multi_bw_max=[239,239,239,239,239])"
   ]
  },
  {
   "cell_type": "code",
   "execution_count": 35,
   "metadata": {},
   "outputs": [
    {
     "data": {
      "application/vnd.jupyter.widget-view+json": {
       "model_id": "9c18183403514b029355d43a9caad8d0",
       "version_major": 2,
       "version_minor": 0
      },
      "text/plain": [
       "HBox(children=(IntProgress(value=0, description='Inference', max=1), HTML(value='')))"
      ]
     },
     "metadata": {},
     "output_type": "display_data"
    },
    {
     "name": "stdout",
     "output_type": "stream",
     "text": [
      "\n"
     ]
    }
   ],
   "source": [
    "mgwr_mod = MGWR(coords, y,X_std,selector,family=Binomial(),constant=True).fit()"
   ]
  },
  {
   "cell_type": "code",
   "execution_count": 36,
   "metadata": {},
   "outputs": [
    {
     "name": "stdout",
     "output_type": "stream",
     "text": [
      "===========================================================================\n",
      "Model type                                                         Binomial\n",
      "Number of observations:                                                 239\n",
      "Number of covariates:                                                     5\n",
      "\n",
      "Global Regression Results\n",
      "---------------------------------------------------------------------------\n",
      "Deviance:                                                           266.246\n",
      "Log-likelihood:                                                    -133.123\n",
      "AIC:                                                                276.246\n",
      "AICc:                                                               276.504\n",
      "BIC:                                                              -1015.246\n",
      "Percent deviance explained:                                           0.182\n",
      "Adj. percent deviance explained:                                      0.168\n",
      "\n",
      "Variable                              Est.         SE  t(Est/SE)    p-value\n",
      "------------------------------- ---------- ---------- ---------- ----------\n",
      "X0                                   0.389      0.150      2.591      0.010\n",
      "X1                                  -0.784      0.166     -4.715      0.000\n",
      "X2                                   0.654      0.168      3.881      0.000\n",
      "X3                                   0.039      0.149      0.264      0.792\n",
      "X4                                  -0.371      0.156     -2.381      0.017\n",
      "\n",
      "Geographically Weighted Regression (GWR) Results\n",
      "---------------------------------------------------------------------------\n",
      "Spatial kernel:                                           Adaptive bisquare\n",
      "Bandwidth used:                                                     121.000\n",
      "\n",
      "Diagnostic information\n",
      "---------------------------------------------------------------------------\n",
      "Effective number of parameters (trace(S)):                           23.263\n",
      "Degree of freedom (n - trace(S)):                                   215.737\n",
      "Log-likelihood:                                                    -106.599\n",
      "AIC:                                                                259.725\n",
      "AICc:                                                               264.982\n",
      "BIC:                                                                340.598\n",
      "Percent deviance explained:                                         0.345\n",
      "Adjusted percent deviance explained:                                0.274\n",
      "Adj. alpha (95%):                                                     0.011\n",
      "Adj. critical t value (95%):                                          2.571\n",
      "\n",
      "Summary Statistics For GWR Parameter Estimates\n",
      "---------------------------------------------------------------------------\n",
      "Variable                   Mean        STD        Min     Median        Max\n",
      "-------------------- ---------- ---------- ---------- ---------- ----------\n",
      "X0                        0.459      0.360     -0.360      0.436      1.232\n",
      "X1                       -0.824      0.479     -2.128     -0.729     -0.095\n",
      "X2                        0.567      0.390     -0.030      0.600      1.328\n",
      "X3                        0.103      0.270     -0.473      0.183      0.565\n",
      "X4                       -0.331      0.247     -1.118     -0.287      0.096\n",
      "===========================================================================\n",
      "\n"
     ]
    }
   ],
   "source": [
    "gwr_mod.summary()"
   ]
  },
  {
   "cell_type": "code",
   "execution_count": 37,
   "metadata": {},
   "outputs": [
    {
     "data": {
      "text/plain": [
       "array([ 0.57247827, -1.01119236,  1.07071867,  0.20218987, -0.61098986])"
      ]
     },
     "execution_count": 37,
     "metadata": {},
     "output_type": "execute_result"
    }
   ],
   "source": [
    "np.mean(mgwr_mod.params,axis=0)"
   ]
  },
  {
   "cell_type": "code",
   "execution_count": 38,
   "metadata": {},
   "outputs": [
    {
     "data": {
      "text/plain": [
       "292.95192410952586"
      ]
     },
     "execution_count": 38,
     "metadata": {},
     "output_type": "execute_result"
    }
   ],
   "source": [
    "mgwr_mod.bic"
   ]
  },
  {
   "cell_type": "code",
   "execution_count": 39,
   "metadata": {},
   "outputs": [
    {
     "data": {
      "text/plain": [
       "340.5982180538755"
      ]
     },
     "execution_count": 39,
     "metadata": {},
     "output_type": "execute_result"
    }
   ],
   "source": [
    "gwr_mod.bic"
   ]
  }
 ],
 "metadata": {
  "kernelspec": {
   "display_name": "Python 3",
   "language": "python",
   "name": "python3"
  },
  "language_info": {
   "codemirror_mode": {
    "name": "ipython",
    "version": 3
   },
   "file_extension": ".py",
   "mimetype": "text/x-python",
   "name": "python",
   "nbconvert_exporter": "python",
   "pygments_lexer": "ipython3",
   "version": "3.6.6"
  }
 },
 "nbformat": 4,
 "nbformat_minor": 2
}
