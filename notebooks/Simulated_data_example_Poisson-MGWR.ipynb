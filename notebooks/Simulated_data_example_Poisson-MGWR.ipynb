{
 "cells": [
  {
   "cell_type": "markdown",
   "metadata": {},
   "source": [
    "Branch - multi_bw_changes\n",
    "\n",
    "PR - <link>"
   ]
  },
  {
   "cell_type": "code",
   "execution_count": 1,
   "metadata": {},
   "outputs": [],
   "source": [
    "import sys\n",
    "sys.path.append(\"C:/Users/msachde1/Downloads/Research/Development/mgwr\")"
   ]
  },
  {
   "cell_type": "code",
   "execution_count": 2,
   "metadata": {},
   "outputs": [],
   "source": [
    "import warnings\n",
    "warnings.filterwarnings(\"ignore\")\n",
    "import pandas as pd\n",
    "import numpy as np\n",
    "\n",
    "from mgwr.gwr import GWR\n",
    "from spglm.family import Gaussian, Binomial, Poisson\n",
    "from mgwr.gwr import MGWR\n",
    "from mgwr.sel_bw import Sel_BW\n",
    "import multiprocessing as mp\n",
    "pool = mp.Pool()\n",
    "from scipy import linalg\n",
    "import numpy.linalg as la\n",
    "from scipy import sparse as sp\n",
    "from scipy.sparse import linalg as spla\n",
    "from spreg.utils import spdot, spmultiply\n",
    "from scipy import special\n",
    "import libpysal as ps\n",
    "import seaborn as sns\n",
    "import matplotlib.pyplot as plt\n",
    "from copy import deepcopy\n",
    "import copy\n",
    "from collections import namedtuple\n",
    "import spglm"
   ]
  },
  {
   "cell_type": "markdown",
   "metadata": {},
   "source": [
    "### Simulated data for Poisson MGWR"
   ]
  },
  {
   "cell_type": "markdown",
   "metadata": {},
   "source": [
    "##### Forming variables"
   ]
  },
  {
   "cell_type": "code",
   "execution_count": 3,
   "metadata": {},
   "outputs": [],
   "source": [
    "def add(a,b):\n",
    "    return 1+((1/12)*(a+b))\n",
    "\n",
    "def con(u,v):\n",
    "    return (0*(u)*(v))+3\n",
    "\n",
    "def sp(u,v):\n",
    "    return 1+1/324*(36-(6-u/2)**2)*(36-(6-v/2)**2)"
   ]
  },
  {
   "cell_type": "code",
   "execution_count": 4,
   "metadata": {},
   "outputs": [],
   "source": [
    "x = np.linspace(0, 25, 25)\n",
    "y = np.linspace(25, 0, 25)\n",
    "X, Y = np.meshgrid(x, y)"
   ]
  },
  {
   "cell_type": "code",
   "execution_count": 5,
   "metadata": {},
   "outputs": [],
   "source": [
    "x1=np.random.normal(0,0.1,625)\n",
    "x2=np.random.normal(0,0.25,625)"
   ]
  },
  {
   "cell_type": "code",
   "execution_count": 6,
   "metadata": {},
   "outputs": [],
   "source": [
    "B0=con(X,Y)\n",
    "B1=add(X,Y)\n",
    "B2=sp(X,Y)"
   ]
  },
  {
   "cell_type": "code",
   "execution_count": 7,
   "metadata": {},
   "outputs": [
    {
     "data": {
      "text/plain": [
       "([], <a list of 0 Text yticklabel objects>)"
      ]
     },
     "execution_count": 7,
     "metadata": {},
     "output_type": "execute_result"
    },
    {
     "data": {
      "image/png": "[encoded data removed]",
      "text/plain": [
       "<Figure size 432x288 with 2 Axes>"
      ]
     },
     "metadata": {
      "needs_background": "light"
     },
     "output_type": "display_data"
    }
   ],
   "source": [
    "plt.imshow(B0, extent=[0,10, 0, 10], origin='lower',cmap='Blues')\n",
    "plt.colorbar()\n",
    "plt.axis(aspect='image')\n",
    "plt.xticks([])\n",
    "plt.yticks([])"
   ]
  },
  {
   "cell_type": "code",
   "execution_count": 8,
   "metadata": {},
   "outputs": [
    {
     "data": {
      "text/plain": [
       "([], <a list of 0 Text yticklabel objects>)"
      ]
     },
     "execution_count": 8,
     "metadata": {},
     "output_type": "execute_result"
    },
    {
     "data": {
      "image/png": "[encoded data removed]",
      "text/plain": [
       "<Figure size 432x288 with 2 Axes>"
      ]
     },
     "metadata": {
      "needs_background": "light"
     },
     "output_type": "display_data"
    }
   ],
   "source": [
    "plt.imshow(B1, extent=[0,10, 0, 10], origin='lower',cmap='RdBu_r')\n",
    "plt.colorbar()\n",
    "plt.axis(aspect='image')\n",
    "plt.xticks([])\n",
    "plt.yticks([])"
   ]
  },
  {
   "cell_type": "code",
   "execution_count": 9,
   "metadata": {},
   "outputs": [
    {
     "data": {
      "text/plain": [
       "([], <a list of 0 Text yticklabel objects>)"
      ]
     },
     "execution_count": 9,
     "metadata": {},
     "output_type": "execute_result"
    },
    {
     "data": {
      "image/png": "[encoded data removed]",
      "text/plain": [
       "<Figure size 432x288 with 2 Axes>"
      ]
     },
     "metadata": {
      "needs_background": "light"
     },
     "output_type": "display_data"
    }
   ],
   "source": [
    "plt.imshow(B2, extent=[0,25, 0, 25], origin='lower',cmap='RdBu_r')\n",
    "plt.colorbar()\n",
    "plt.axis(aspect='image')\n",
    "plt.xticks([])\n",
    "plt.yticks([])"
   ]
  },
  {
   "cell_type": "code",
   "execution_count": 10,
   "metadata": {},
   "outputs": [],
   "source": [
    "B0=B0.reshape(-1,1)\n",
    "B1=B1.reshape(-1,1)\n",
    "B2=B2.reshape(-1,1)"
   ]
  },
  {
   "cell_type": "code",
   "execution_count": 11,
   "metadata": {},
   "outputs": [
    {
     "data": {
      "image/png": "[encoded data removed]",
      "text/plain": [
       "<Figure size 288x288 with 2 Axes>"
      ]
     },
     "metadata": {
      "needs_background": "light"
     },
     "output_type": "display_data"
    }
   ],
   "source": [
    "f, axes = plt.subplots(1, 2, figsize=(4, 4), sharex=True)\n",
    "sns.despine(left=True)\n",
    "sns.distplot(B0,ax=axes[0])\n",
    "sns.distplot(B1,ax=axes[1])\n",
    "\n",
    "plt.setp(axes, yticks=[])\n",
    "plt.tight_layout()"
   ]
  },
  {
   "cell_type": "code",
   "execution_count": 12,
   "metadata": {},
   "outputs": [
    {
     "data": {
      "text/plain": [
       "<matplotlib.axes._subplots.AxesSubplot at 0x1b48a90e9b0>"
      ]
     },
     "execution_count": 12,
     "metadata": {},
     "output_type": "execute_result"
    },
    {
     "data": {
      "image/png": "[encoded data removed]",
      "text/plain": [
       "<Figure size 432x288 with 1 Axes>"
      ]
     },
     "metadata": {
      "needs_background": "light"
     },
     "output_type": "display_data"
    }
   ],
   "source": [
    "sns.distplot(B2)"
   ]
  },
  {
   "cell_type": "code",
   "execution_count": 13,
   "metadata": {},
   "outputs": [],
   "source": [
    "lat=Y.reshape(-1,1)\n",
    "lon=X.reshape(-1,1)"
   ]
  },
  {
   "cell_type": "code",
   "execution_count": 14,
   "metadata": {},
   "outputs": [],
   "source": [
    "x1=x1.reshape(-1,1)\n",
    "x2=x2.reshape(-1,1)"
   ]
  },
  {
   "cell_type": "code",
   "execution_count": 15,
   "metadata": {},
   "outputs": [],
   "source": [
    "param = np.hstack([B0,B1,B2])\n",
    "cons=np.ones_like(x1)\n",
    "X=np.hstack([cons,x1,x2])"
   ]
  },
  {
   "cell_type": "code",
   "execution_count": 16,
   "metadata": {},
   "outputs": [
    {
     "data": {
      "text/plain": [
       "(625, 3)"
      ]
     },
     "execution_count": 16,
     "metadata": {},
     "output_type": "execute_result"
    }
   ],
   "source": [
    "X.shape"
   ]
  },
  {
   "cell_type": "code",
   "execution_count": 17,
   "metadata": {},
   "outputs": [],
   "source": [
    "#y\n",
    "y=(np.exp(np.sum(X * param, axis=1).reshape(-1, 1)))"
   ]
  },
  {
   "cell_type": "code",
   "execution_count": 18,
   "metadata": {},
   "outputs": [
    {
     "data": {
      "text/plain": [
       "(625, 1)"
      ]
     },
     "execution_count": 18,
     "metadata": {},
     "output_type": "execute_result"
    }
   ],
   "source": [
    "y.shape"
   ]
  },
  {
   "cell_type": "code",
   "execution_count": 19,
   "metadata": {},
   "outputs": [
    {
     "data": {
      "text/plain": [
       "<matplotlib.axes._subplots.AxesSubplot at 0x1b48aa2e780>"
      ]
     },
     "execution_count": 19,
     "metadata": {},
     "output_type": "execute_result"
    },
    {
     "data": {
      "image/png": "[encoded data removed]",
      "text/plain": [
       "<Figure size 432x288 with 1 Axes>"
      ]
     },
     "metadata": {
      "needs_background": "light"
     },
     "output_type": "display_data"
    }
   ],
   "source": [
    "sns.distplot(y)"
   ]
  },
  {
   "cell_type": "code",
   "execution_count": 20,
   "metadata": {},
   "outputs": [],
   "source": [
    "coords = np.array(list(zip(lon,lat)))\n",
    "y = np.array(y).reshape((-1,1))"
   ]
  },
  {
   "cell_type": "code",
   "execution_count": 21,
   "metadata": {},
   "outputs": [],
   "source": [
    "x=x1\n",
    "x_std = (x-x.mean(axis=0))/x.std(axis=0)\n",
    "X=np.hstack([x1,x2])\n",
    "X_std = (X-X.mean(axis=0))/X.std(axis=0)"
   ]
  },
  {
   "cell_type": "code",
   "execution_count": null,
   "metadata": {},
   "outputs": [],
   "source": []
  },
  {
   "cell_type": "markdown",
   "metadata": {},
   "source": [
    "#### First example: checking GWR and MGWR models with one independent variable and constant = False"
   ]
  },
  {
   "cell_type": "code",
   "execution_count": 22,
   "metadata": {},
   "outputs": [],
   "source": [
    "bw=Sel_BW(coords,y,x_std,family=Poisson(),offset=None,constant=False)\n",
    "bw=bw.search()\n",
    "gwr_model=GWR(coords,y,x_std,bw,family=Poisson(),offset=None,constant=False).fit()"
   ]
  },
  {
   "cell_type": "code",
   "execution_count": 23,
   "metadata": {},
   "outputs": [
    {
     "data": {
      "text/plain": [
       "43.0"
      ]
     },
     "execution_count": 23,
     "metadata": {},
     "output_type": "execute_result"
    }
   ],
   "source": [
    "bw"
   ]
  },
  {
   "cell_type": "code",
   "execution_count": 43,
   "metadata": {},
   "outputs": [],
   "source": [
    "selector=Sel_BW(coords,y,x_std,multi=True,family=Poisson(),offset=None,constant=False)"
   ]
  },
  {
   "cell_type": "code",
   "execution_count": 25,
   "metadata": {},
   "outputs": [
    {
     "name": "stdout",
     "output_type": "stream",
     "text": [
      "Current iteration: 1 ,SOC: 0.0\n",
      "Bandwidths: 43.0\n"
     ]
    },
    {
     "data": {
      "text/plain": [
       "array([43.])"
      ]
     },
     "execution_count": 25,
     "metadata": {},
     "output_type": "execute_result"
    }
   ],
   "source": [
    "selector.search(verbose=True)"
   ]
  },
  {
   "cell_type": "code",
   "execution_count": 27,
   "metadata": {},
   "outputs": [
    {
     "data": {
      "application/vnd.jupyter.widget-view+json": {
       "model_id": "3a745f937d83453fb11fc4bdabdfd606",
       "version_major": 2,
       "version_minor": 0
      },
      "text/plain": [
       "HBox(children=(IntProgress(value=0, description='Inference', max=1), HTML(value='')))"
      ]
     },
     "metadata": {},
     "output_type": "display_data"
    },
    {
     "name": "stdout",
     "output_type": "stream",
     "text": [
      "\n"
     ]
    }
   ],
   "source": [
    "mgwr_model=MGWR(coords,y,x_std,selector,family=Poisson(),offset=None,constant=False).fit()"
   ]
  },
  {
   "cell_type": "markdown",
   "metadata": {},
   "source": [
    "##### Parameter check:"
   ]
  },
  {
   "cell_type": "code",
   "execution_count": 28,
   "metadata": {},
   "outputs": [
    {
     "data": {
      "text/plain": [
       "571"
      ]
     },
     "execution_count": 28,
     "metadata": {},
     "output_type": "execute_result"
    }
   ],
   "source": [
    "np.sum(((gwr_model.params-mgwr_model.params)==0.0)==True)"
   ]
  },
  {
   "cell_type": "code",
   "execution_count": 29,
   "metadata": {},
   "outputs": [
    {
     "data": {
      "text/plain": [
       "(73204.30659590986, 73217.19169185885)"
      ]
     },
     "execution_count": 29,
     "metadata": {},
     "output_type": "execute_result"
    }
   ],
   "source": [
    "gwr_model.aic,mgwr_model.aic"
   ]
  },
  {
   "cell_type": "code",
   "execution_count": 30,
   "metadata": {},
   "outputs": [
    {
     "data": {
      "text/plain": [
       "580"
      ]
     },
     "execution_count": 30,
     "metadata": {},
     "output_type": "execute_result"
    }
   ],
   "source": [
    "np.sum((gwr_model.predy-mgwr_model.predy==0)==True)"
   ]
  },
  {
   "cell_type": "markdown",
   "metadata": {},
   "source": [
    "#### Second example for bandwidths"
   ]
  },
  {
   "cell_type": "code",
   "execution_count": 32,
   "metadata": {},
   "outputs": [],
   "source": [
    "bw=Sel_BW(coords,y,X_std,family=Poisson(),offset=None)\n",
    "bw=bw.search()\n",
    "gwr_model=GWR(coords,y,X_std,bw,family=Poisson(),offset=None).fit()"
   ]
  },
  {
   "cell_type": "code",
   "execution_count": 33,
   "metadata": {},
   "outputs": [
    {
     "data": {
      "text/plain": [
       "70.0"
      ]
     },
     "execution_count": 33,
     "metadata": {},
     "output_type": "execute_result"
    }
   ],
   "source": [
    "bw"
   ]
  },
  {
   "cell_type": "code",
   "execution_count": 45,
   "metadata": {},
   "outputs": [],
   "source": [
    "selector=Sel_BW(coords,y,X_std,multi=True,family=Poisson(),offset=None)"
   ]
  },
  {
   "cell_type": "code",
   "execution_count": 46,
   "metadata": {},
   "outputs": [
    {
     "name": "stdout",
     "output_type": "stream",
     "text": [
      "Current iteration: 1 ,SOC: 0.003981\n",
      "Bandwidths: 165.0, 49.0, 57.0\n",
      "Current iteration: 2 ,SOC: 0.0015196\n",
      "Bandwidths: 204.0, 46.0, 57.0\n",
      "Current iteration: 3 ,SOC: 0.0002195\n",
      "Bandwidths: 204.0, 46.0, 57.0\n",
      "Current iteration: 4 ,SOC: 3.38e-05\n",
      "Bandwidths: 204.0, 46.0, 57.0\n",
      "Current iteration: 5 ,SOC: 4.8e-06\n",
      "Bandwidths: 204.0, 46.0, 57.0\n"
     ]
    },
    {
     "data": {
      "text/plain": [
       "array([204.,  46.,  57.])"
      ]
     },
     "execution_count": 46,
     "metadata": {},
     "output_type": "execute_result"
    }
   ],
   "source": [
    "selector.search(verbose=True)"
   ]
  },
  {
   "cell_type": "code",
   "execution_count": 47,
   "metadata": {},
   "outputs": [
    {
     "data": {
      "application/vnd.jupyter.widget-view+json": {
       "model_id": "a83208c942f84046995bb1ccf5b0c8a1",
       "version_major": 2,
       "version_minor": 0
      },
      "text/plain": [
       "HBox(children=(IntProgress(value=0, description='Inference', max=1), HTML(value='')))"
      ]
     },
     "metadata": {},
     "output_type": "display_data"
    },
    {
     "name": "stdout",
     "output_type": "stream",
     "text": [
      "\n"
     ]
    }
   ],
   "source": [
    "mgwr_model=MGWR(coords,y,X_std,selector,family=Poisson(),offset=None).fit()"
   ]
  },
  {
   "cell_type": "code",
   "execution_count": 48,
   "metadata": {},
   "outputs": [
    {
     "data": {
      "text/plain": [
       "(316.31974783179794, 21254.05879125747)"
      ]
     },
     "execution_count": 48,
     "metadata": {},
     "output_type": "execute_result"
    }
   ],
   "source": [
    "gwr_model.aic,mgwr_model.aic"
   ]
  },
  {
   "cell_type": "code",
   "execution_count": 49,
   "metadata": {},
   "outputs": [
    {
     "data": {
      "text/plain": [
       "array([[-5.44214569e+01],\n",
       "       [-3.38471925e+01],\n",
       "       [ 4.15164246e+01],\n",
       "       [ 2.19379090e+01],\n",
       "       [ 1.78343498e+01],\n",
       "       [-1.09015240e+02],\n",
       "       [-1.44533981e+00],\n",
       "       [ 5.18280948e+00],\n",
       "       [ 6.62643716e+00],\n",
       "       [ 3.92227590e+01],\n",
       "       [-4.16522513e+01],\n",
       "       [-3.35773504e+00],\n",
       "       [-2.15891176e+01],\n",
       "       [ 4.51353446e+01],\n",
       "       [ 1.65885199e+01],\n",
       "       [-7.78800613e+01],\n",
       "       [ 9.34031341e+00],\n",
       "       [-4.62707610e+00],\n",
       "       [ 3.51732087e+01],\n",
       "       [ 5.05693909e+01],\n",
       "       [-5.01048123e+01],\n",
       "       [-8.79258294e+01],\n",
       "       [-4.03892751e+01],\n",
       "       [-2.91771080e+01],\n",
       "       [ 3.14790683e+01],\n",
       "       [ 5.00975890e+01],\n",
       "       [ 1.31935023e+01],\n",
       "       [-3.62333980e+01],\n",
       "       [-1.52132667e+01],\n",
       "       [-7.42756807e+01],\n",
       "       [-9.01276878e+00],\n",
       "       [ 1.59352652e+01],\n",
       "       [-5.12197284e+00],\n",
       "       [ 3.69404343e+01],\n",
       "       [-3.71633638e+01],\n",
       "       [-1.66893097e+02],\n",
       "       [ 1.49588775e+01],\n",
       "       [ 2.72443412e+01],\n",
       "       [-1.73793461e+01],\n",
       "       [-1.17779577e+00],\n",
       "       [ 1.02316886e+01],\n",
       "       [-6.31162635e+00],\n",
       "       [-3.44931172e+00],\n",
       "       [-1.78240604e+02],\n",
       "       [-1.48286976e+02],\n",
       "       [ 1.74427942e+01],\n",
       "       [ 4.43174455e+00],\n",
       "       [-6.28165117e+01],\n",
       "       [-1.10161720e+02],\n",
       "       [ 1.20449992e+01],\n",
       "       [ 4.91452376e+01],\n",
       "       [ 8.74041171e+00],\n",
       "       [ 3.51343651e+01],\n",
       "       [-1.45966377e+01],\n",
       "       [ 2.53811877e+01],\n",
       "       [-2.06589671e+00],\n",
       "       [ 2.73124268e+00],\n",
       "       [-5.17796465e+00],\n",
       "       [ 5.53164711e+00],\n",
       "       [-2.79839579e+01],\n",
       "       [-1.54670557e+01],\n",
       "       [ 1.48429138e+01],\n",
       "       [ 6.02123656e+00],\n",
       "       [-1.07102259e+01],\n",
       "       [ 4.54696907e+00],\n",
       "       [ 5.54342967e+00],\n",
       "       [ 9.37887862e+00],\n",
       "       [-1.01793932e+01],\n",
       "       [-1.52064535e+01],\n",
       "       [-8.13729276e+01],\n",
       "       [-8.60615305e+01],\n",
       "       [ 2.11048902e+01],\n",
       "       [ 4.03101901e+01],\n",
       "       [-8.59144753e+00],\n",
       "       [ 3.04183237e+01],\n",
       "       [-9.98933107e-01],\n",
       "       [-1.73606448e+01],\n",
       "       [-2.04091508e+01],\n",
       "       [-3.44462209e+01],\n",
       "       [-1.52919082e+01],\n",
       "       [ 3.71136040e+00],\n",
       "       [-1.83804612e+01],\n",
       "       [ 2.06125070e+00],\n",
       "       [-1.97594729e-01],\n",
       "       [ 8.01961450e+00],\n",
       "       [-6.19381938e+00],\n",
       "       [-7.39147174e+00],\n",
       "       [ 4.02403840e-01],\n",
       "       [ 6.52846604e-01],\n",
       "       [ 2.97907611e+00],\n",
       "       [-2.37772512e+00],\n",
       "       [-2.42004262e+01],\n",
       "       [ 1.60346122e+01],\n",
       "       [ 1.66046878e+01],\n",
       "       [ 1.09834765e+01],\n",
       "       [-2.85684567e+01],\n",
       "       [-1.97126606e+01],\n",
       "       [-8.03192378e+01],\n",
       "       [ 6.95011754e+00],\n",
       "       [-3.46066577e-01],\n",
       "       [-1.22430668e+01],\n",
       "       [-1.05577261e+01],\n",
       "       [ 2.15702573e+01],\n",
       "       [ 8.03956202e+00],\n",
       "       [-1.00819276e+00],\n",
       "       [-1.75407332e+01],\n",
       "       [-1.30770785e+02],\n",
       "       [ 3.15162390e+00],\n",
       "       [-4.56123606e+00],\n",
       "       [-1.76666952e+00],\n",
       "       [-1.23644548e+01],\n",
       "       [ 7.25673133e+00],\n",
       "       [-3.74788804e+01],\n",
       "       [ 9.21068899e-01],\n",
       "       [ 6.91166012e+00],\n",
       "       [-3.72061793e+00],\n",
       "       [ 7.14152355e+01],\n",
       "       [-1.04678161e+01],\n",
       "       [-2.67876988e+01],\n",
       "       [ 5.57753098e+01],\n",
       "       [-2.98577576e+00],\n",
       "       [ 1.55504679e+01],\n",
       "       [-3.88537872e+01],\n",
       "       [-1.40940965e+01],\n",
       "       [-1.13952486e+02],\n",
       "       [-4.41560733e+01],\n",
       "       [ 4.24307049e+01],\n",
       "       [ 1.31660371e+01],\n",
       "       [-2.20595347e+00],\n",
       "       [-1.16725932e-01],\n",
       "       [ 2.57433118e+00],\n",
       "       [ 4.95729535e+00],\n",
       "       [-1.91394229e+00],\n",
       "       [ 4.75157523e+00],\n",
       "       [ 4.95705454e+00],\n",
       "       [ 3.43245545e+00],\n",
       "       [ 5.35302352e+00],\n",
       "       [ 2.69329356e+00],\n",
       "       [-3.13926754e+00],\n",
       "       [-5.04347335e+01],\n",
       "       [ 7.84879905e-01],\n",
       "       [-9.64297233e+00],\n",
       "       [ 1.56065041e+01],\n",
       "       [-1.12375266e+01],\n",
       "       [-3.20491873e+01],\n",
       "       [ 1.84347412e+01],\n",
       "       [-1.03622668e+01],\n",
       "       [-6.19195908e+01],\n",
       "       [ 2.42699701e+01],\n",
       "       [-4.85335160e+00],\n",
       "       [ 1.21007577e+01],\n",
       "       [-2.28630672e+01],\n",
       "       [ 3.91207274e+01],\n",
       "       [ 8.10650401e+00],\n",
       "       [ 2.22285926e+00],\n",
       "       [-3.98394349e-01],\n",
       "       [ 2.82071397e+00],\n",
       "       [ 5.36429689e+00],\n",
       "       [ 8.51170472e-01],\n",
       "       [-8.03966153e+01],\n",
       "       [-1.13399316e+01],\n",
       "       [-2.22400883e+01],\n",
       "       [ 5.15994203e+00],\n",
       "       [ 1.27322232e+01],\n",
       "       [-2.24240492e+01],\n",
       "       [ 5.38026005e+00],\n",
       "       [-6.20040937e+00],\n",
       "       [-8.90884471e+00],\n",
       "       [-5.31631566e+00],\n",
       "       [-5.47652976e+01],\n",
       "       [ 3.55306033e+01],\n",
       "       [-1.76764696e+01],\n",
       "       [ 1.05917480e+02],\n",
       "       [-8.49480449e+01],\n",
       "       [ 2.90481813e+01],\n",
       "       [ 1.06546256e+01],\n",
       "       [-1.05086080e+01],\n",
       "       [ 5.08411537e+01],\n",
       "       [ 1.76938489e+00],\n",
       "       [ 3.54807668e+00],\n",
       "       [ 1.24401436e+00],\n",
       "       [ 2.57963988e+00],\n",
       "       [ 3.57946134e+00],\n",
       "       [-3.08649815e+01],\n",
       "       [ 2.15935271e+00],\n",
       "       [-4.36471107e+01],\n",
       "       [ 2.77458842e+00],\n",
       "       [-2.57114424e+00],\n",
       "       [-1.03683358e+00],\n",
       "       [ 3.36148121e+00],\n",
       "       [-3.78987090e+01],\n",
       "       [-5.39776409e+00],\n",
       "       [ 1.78519021e+00],\n",
       "       [-4.16992006e+00],\n",
       "       [ 6.04429282e+01],\n",
       "       [-2.99836783e+01],\n",
       "       [-5.90148749e+01],\n",
       "       [ 4.40037730e+00],\n",
       "       [ 1.58911400e+01],\n",
       "       [ 9.69183448e+00],\n",
       "       [ 1.73189002e+01],\n",
       "       [ 2.23466720e+01],\n",
       "       [ 3.43757090e+00],\n",
       "       [-6.48585872e+00],\n",
       "       [-4.64038283e-02],\n",
       "       [ 2.90810480e+00],\n",
       "       [ 4.45838591e+00],\n",
       "       [ 4.23616773e+00],\n",
       "       [-1.52833770e-01],\n",
       "       [ 7.00699303e-01],\n",
       "       [ 1.60362291e+00],\n",
       "       [-9.15281211e+01],\n",
       "       [ 3.94550854e+00],\n",
       "       [ 2.67824150e+00],\n",
       "       [ 4.66616585e+00],\n",
       "       [-1.15051237e+01],\n",
       "       [-7.91755012e+00],\n",
       "       [ 3.08446159e+00],\n",
       "       [-5.12968859e+02],\n",
       "       [ 7.48273919e+00],\n",
       "       [ 2.91496252e+01],\n",
       "       [ 3.99099482e+01],\n",
       "       [ 6.44388656e+00],\n",
       "       [ 1.64736254e+00],\n",
       "       [-2.61962229e+01],\n",
       "       [-8.40620754e+00],\n",
       "       [ 2.64675521e+01],\n",
       "       [ 5.76680575e+00],\n",
       "       [-7.62608825e+00],\n",
       "       [-8.86497063e-02],\n",
       "       [ 1.62083488e+00],\n",
       "       [ 5.14802951e-01],\n",
       "       [-7.05548949e-01],\n",
       "       [ 4.02356657e-01],\n",
       "       [-1.43906177e+00],\n",
       "       [ 2.23262150e+00],\n",
       "       [ 5.62004116e+00],\n",
       "       [ 2.55310852e+00],\n",
       "       [ 2.68385779e+00],\n",
       "       [-5.97119518e+00],\n",
       "       [-7.15765455e+00],\n",
       "       [ 9.33440089e+00],\n",
       "       [-1.03080580e+01],\n",
       "       [ 2.34544039e+00],\n",
       "       [-4.99938644e+01],\n",
       "       [-5.92643829e-01],\n",
       "       [-3.64318327e+01],\n",
       "       [-4.30120236e+00],\n",
       "       [-3.82922197e+01],\n",
       "       [ 7.80409333e+00],\n",
       "       [ 8.08728380e+00],\n",
       "       [-1.12886232e+00],\n",
       "       [ 9.08287390e+00],\n",
       "       [ 6.59608506e+01],\n",
       "       [-6.17745020e-01],\n",
       "       [ 1.09545368e+00],\n",
       "       [ 1.05518871e+01],\n",
       "       [-4.82247337e+01],\n",
       "       [ 4.17175401e+00],\n",
       "       [-2.18124630e+01],\n",
       "       [ 1.71096277e+00],\n",
       "       [ 5.34969337e+00],\n",
       "       [-9.35653053e+00],\n",
       "       [-3.64891065e+00],\n",
       "       [ 5.11663387e+00],\n",
       "       [-3.22527941e+01],\n",
       "       [ 4.70745303e+00],\n",
       "       [-1.61282327e+00],\n",
       "       [ 1.89536465e+00],\n",
       "       [-2.30306607e+00],\n",
       "       [-3.04619194e+00],\n",
       "       [-9.58363089e+00],\n",
       "       [-9.42674516e+00],\n",
       "       [ 4.45038896e+01],\n",
       "       [ 4.51408093e+01],\n",
       "       [ 2.71819200e+01],\n",
       "       [ 1.72770922e+01],\n",
       "       [-3.35433934e+01],\n",
       "       [ 1.41080631e+00],\n",
       "       [ 9.91592255e-01],\n",
       "       [-5.33984102e+00],\n",
       "       [-4.77056553e+01],\n",
       "       [ 5.60908017e+00],\n",
       "       [-1.05581972e+01],\n",
       "       [ 2.63098291e+00],\n",
       "       [-3.55452263e+01],\n",
       "       [ 1.61243922e+00],\n",
       "       [ 3.03494801e+00],\n",
       "       [ 1.70652620e+00],\n",
       "       [-3.60694083e+02],\n",
       "       [ 1.14735718e+00],\n",
       "       [-2.86877974e+01],\n",
       "       [-1.37357337e+02],\n",
       "       [-2.33696781e+01],\n",
       "       [-1.69189874e+01],\n",
       "       [-1.55105763e+00],\n",
       "       [ 4.29674863e+00],\n",
       "       [ 2.72658316e+01],\n",
       "       [ 2.81445320e+01],\n",
       "       [-8.15293043e+01],\n",
       "       [-2.36713466e+01],\n",
       "       [-3.48646197e+01],\n",
       "       [ 1.06188120e+01],\n",
       "       [-1.75492034e+01],\n",
       "       [ 2.14320583e+01],\n",
       "       [ 1.08507687e+00],\n",
       "       [ 5.96395722e+00],\n",
       "       [-3.70285974e+01],\n",
       "       [-3.23930139e+01],\n",
       "       [-1.00844585e+02],\n",
       "       [ 9.15286598e-02],\n",
       "       [ 2.82248973e+00],\n",
       "       [ 3.11142210e+00],\n",
       "       [ 2.04541934e+00],\n",
       "       [ 9.38461378e-01],\n",
       "       [ 1.55338805e+01],\n",
       "       [-4.16628138e+01],\n",
       "       [-4.54004751e+01],\n",
       "       [ 6.80873993e+00],\n",
       "       [-6.59760925e-01],\n",
       "       [-4.70731124e-01],\n",
       "       [-6.58270913e+01],\n",
       "       [-1.51987985e+00],\n",
       "       [-9.28618674e+01],\n",
       "       [ 2.24563748e+01],\n",
       "       [ 2.25361854e+00],\n",
       "       [ 1.74400536e+01],\n",
       "       [-3.02046550e+01],\n",
       "       [ 1.51295367e+01],\n",
       "       [-1.56835442e+01],\n",
       "       [ 1.20992526e+00],\n",
       "       [-7.46216937e+01],\n",
       "       [ 4.77051034e+00],\n",
       "       [-1.23066999e+01],\n",
       "       [-4.03398848e+02],\n",
       "       [-6.32393834e+01],\n",
       "       [ 2.27316001e+00],\n",
       "       [ 2.91829934e+00],\n",
       "       [ 1.62030953e+00],\n",
       "       [-4.03626177e+00],\n",
       "       [-1.38014396e+02],\n",
       "       [-2.20940893e+01],\n",
       "       [ 4.26274937e+00],\n",
       "       [ 2.87915158e-02],\n",
       "       [ 5.58557729e+00],\n",
       "       [-5.18748821e+00],\n",
       "       [-9.00913878e+00],\n",
       "       [ 8.16083721e+00],\n",
       "       [ 1.05349737e+01],\n",
       "       [ 2.77274504e+01],\n",
       "       [ 2.65647418e+00],\n",
       "       [ 8.10479786e+00],\n",
       "       [ 2.49302338e+01],\n",
       "       [ 4.68109061e+01],\n",
       "       [-2.91466412e+00],\n",
       "       [ 5.42703260e+00],\n",
       "       [ 3.10125294e+00],\n",
       "       [ 3.74144362e+00],\n",
       "       [-1.37364312e-01],\n",
       "       [-8.08410778e+00],\n",
       "       [-4.54576882e+01],\n",
       "       [-3.29693679e+01],\n",
       "       [ 2.15663363e+00],\n",
       "       [ 2.39782836e+00],\n",
       "       [ 2.45004980e+00],\n",
       "       [ 2.51316331e+00],\n",
       "       [ 3.67708997e+01],\n",
       "       [-8.76692528e+00],\n",
       "       [-3.49351149e+01],\n",
       "       [-3.60173664e+00],\n",
       "       [-3.37126657e+00],\n",
       "       [ 5.42765241e+00],\n",
       "       [-1.88619518e+01],\n",
       "       [ 5.78499616e+00],\n",
       "       [ 3.21679158e+01],\n",
       "       [ 2.01931259e+01],\n",
       "       [ 2.17747090e+01],\n",
       "       [-6.94674756e+00],\n",
       "       [ 1.34286029e+00],\n",
       "       [-3.53120142e+01],\n",
       "       [ 4.65333387e+00],\n",
       "       [ 2.67860785e+00],\n",
       "       [-5.40664586e+01],\n",
       "       [ 9.26499563e+00],\n",
       "       [ 4.39867681e+00],\n",
       "       [ 1.90182260e+00],\n",
       "       [ 1.34217312e+00],\n",
       "       [-2.14796014e+02],\n",
       "       [ 4.37993767e+00],\n",
       "       [-1.18505694e+02],\n",
       "       [ 8.08730398e+00],\n",
       "       [ 2.27327423e+00],\n",
       "       [ 5.57957935e+00],\n",
       "       [-7.93239151e-01],\n",
       "       [ 4.85178697e+00],\n",
       "       [-1.54143843e+01],\n",
       "       [ 1.21117695e+01],\n",
       "       [-3.92864106e+01],\n",
       "       [ 7.08547066e+00],\n",
       "       [-8.90857729e+01],\n",
       "       [ 2.73544186e+01],\n",
       "       [ 1.13273936e+01],\n",
       "       [ 7.54728450e+00],\n",
       "       [-2.55070459e+01],\n",
       "       [-1.78201946e+02],\n",
       "       [ 1.17554360e+00],\n",
       "       [-3.45226607e+01],\n",
       "       [ 1.81053146e+00],\n",
       "       [-4.20092980e+01],\n",
       "       [ 1.17869037e+00],\n",
       "       [-6.69752957e+01],\n",
       "       [ 2.78359822e+00],\n",
       "       [-2.83589648e+00],\n",
       "       [-1.79571010e+02],\n",
       "       [ 5.34811562e+00],\n",
       "       [-1.16522315e+02],\n",
       "       [ 3.47224982e+00],\n",
       "       [ 2.14442455e+00],\n",
       "       [ 6.40707076e+00],\n",
       "       [-8.87539541e+01],\n",
       "       [ 2.80808040e+00],\n",
       "       [ 8.48213664e+00],\n",
       "       [ 8.39611163e+00],\n",
       "       [ 2.95062273e+01],\n",
       "       [ 6.25429383e+01],\n",
       "       [ 1.43233380e+01],\n",
       "       [ 9.30634820e+00],\n",
       "       [-6.29112593e+01],\n",
       "       [ 1.80058454e+00],\n",
       "       [ 2.66216791e-01],\n",
       "       [-8.21553878e+00],\n",
       "       [ 3.67570363e+00],\n",
       "       [ 4.28843350e+00],\n",
       "       [-7.39587601e+01],\n",
       "       [ 6.07223495e+00],\n",
       "       [-1.54235419e+01],\n",
       "       [ 2.51476919e+00],\n",
       "       [ 4.55091852e+00],\n",
       "       [-1.82331413e+01],\n",
       "       [ 1.10104080e+00],\n",
       "       [-5.96899146e+00],\n",
       "       [ 6.33822267e+00],\n",
       "       [-3.16664686e+02],\n",
       "       [-9.96311382e-01],\n",
       "       [ 2.97765856e+00],\n",
       "       [ 3.65334125e+00],\n",
       "       [-1.66450139e+00],\n",
       "       [-5.81390387e+00],\n",
       "       [ 2.46285777e+01],\n",
       "       [ 1.01710865e+01],\n",
       "       [-1.10768242e+02],\n",
       "       [-3.19470893e+01],\n",
       "       [ 1.02871008e+01],\n",
       "       [ 9.45258338e-01],\n",
       "       [ 3.56770602e+00],\n",
       "       [ 6.32644929e+00],\n",
       "       [-8.79511564e+00],\n",
       "       [-1.65654045e+02],\n",
       "       [ 3.89323862e+00],\n",
       "       [ 1.28382461e+00],\n",
       "       [ 7.38087769e-01],\n",
       "       [-1.47351595e+00],\n",
       "       [ 2.93705398e+00],\n",
       "       [ 5.68071144e+00],\n",
       "       [ 4.04411368e+00],\n",
       "       [-1.16086812e+03],\n",
       "       [-1.40238201e+00],\n",
       "       [-3.45291270e+02],\n",
       "       [-8.38836998e+01],\n",
       "       [-5.29801365e+00],\n",
       "       [-7.84135187e+00],\n",
       "       [-6.30341064e+01],\n",
       "       [ 1.98437641e+01],\n",
       "       [-4.24907132e+01],\n",
       "       [-3.50174098e+01],\n",
       "       [-1.68203823e+01],\n",
       "       [ 8.60090403e+01],\n",
       "       [ 1.51622696e+01],\n",
       "       [-9.57402000e-01],\n",
       "       [ 4.12643946e+01],\n",
       "       [ 2.20132187e+00],\n",
       "       [ 4.76107454e+00],\n",
       "       [-5.30059825e+01],\n",
       "       [ 5.41444108e+00],\n",
       "       [-8.54229855e-01],\n",
       "       [ 6.30389497e+00],\n",
       "       [ 5.46548055e+00],\n",
       "       [ 2.58896355e+00],\n",
       "       [-2.41281262e+00],\n",
       "       [-1.71585703e+02],\n",
       "       [-6.19484711e+01],\n",
       "       [-2.21444980e+01],\n",
       "       [-5.14850388e+01],\n",
       "       [-2.05233151e-01],\n",
       "       [-7.56625018e-01],\n",
       "       [-2.74806881e+00],\n",
       "       [-1.76069483e+00],\n",
       "       [-6.15286770e+00],\n",
       "       [ 6.53764392e+00],\n",
       "       [-3.82435537e+01],\n",
       "       [ 1.25156137e+01],\n",
       "       [-2.88635801e+01],\n",
       "       [ 8.16970174e+00],\n",
       "       [ 6.55779707e+00],\n",
       "       [ 1.99284699e+01],\n",
       "       [-1.16787623e+01],\n",
       "       [ 1.45421001e+01],\n",
       "       [ 1.19664367e+01],\n",
       "       [ 7.43702151e+00],\n",
       "       [-1.93057776e+00],\n",
       "       [-1.32810915e+00],\n",
       "       [-4.59796800e+01],\n",
       "       [ 1.46755098e+00],\n",
       "       [-4.43904088e+00],\n",
       "       [-1.17271668e+01],\n",
       "       [-7.93746017e-01],\n",
       "       [ 5.04236855e+00],\n",
       "       [ 1.25610777e+01],\n",
       "       [-3.37303558e+01],\n",
       "       [-1.46708996e+01],\n",
       "       [-1.02220764e+01],\n",
       "       [-1.18568830e+01],\n",
       "       [ 5.34957233e+01],\n",
       "       [ 2.59409159e+01],\n",
       "       [-7.07073097e+00],\n",
       "       [-1.07736414e+01],\n",
       "       [ 1.63262024e+01],\n",
       "       [ 2.11306899e+01],\n",
       "       [ 3.61460788e-01],\n",
       "       [-3.85389336e+01],\n",
       "       [ 1.03593368e+01],\n",
       "       [-1.81152817e+00],\n",
       "       [ 4.25778138e+00],\n",
       "       [-7.51122503e+00],\n",
       "       [-1.93554032e-01],\n",
       "       [ 1.53324813e+00],\n",
       "       [ 3.99180145e+00],\n",
       "       [ 5.73064817e+00],\n",
       "       [ 8.72249205e+00],\n",
       "       [ 2.11321824e+01],\n",
       "       [ 1.88887247e+01],\n",
       "       [ 2.39919502e+01],\n",
       "       [ 1.34782800e+02],\n",
       "       [-2.91487902e+00],\n",
       "       [ 5.52493475e+01],\n",
       "       [ 2.83689694e+01],\n",
       "       [-2.06934864e+01],\n",
       "       [-2.65483891e+01],\n",
       "       [-4.65261515e+00],\n",
       "       [-7.31356894e+01],\n",
       "       [ 7.10135567e+00],\n",
       "       [ 2.31691013e+01],\n",
       "       [ 1.77688391e+01],\n",
       "       [ 7.80676584e+00],\n",
       "       [ 1.25386906e+00],\n",
       "       [ 1.00366452e+01],\n",
       "       [ 5.74697057e+00],\n",
       "       [-2.80825466e+01],\n",
       "       [-4.06993650e+00],\n",
       "       [-6.00136196e+00],\n",
       "       [ 6.17878609e-02],\n",
       "       [ 3.27079608e+00],\n",
       "       [-1.04093801e+01],\n",
       "       [ 2.68855558e+01],\n",
       "       [ 1.36795951e+01],\n",
       "       [-1.71040453e+02],\n",
       "       [ 1.52994319e+01],\n",
       "       [ 2.72677407e+01],\n",
       "       [-5.91975830e+01],\n",
       "       [-1.01599006e+01],\n",
       "       [-1.27639757e+01],\n",
       "       [ 2.31509922e+00],\n",
       "       [-6.88367181e+01],\n",
       "       [ 4.14656179e+01],\n",
       "       [-3.63482136e+00],\n",
       "       [-4.70664208e+01],\n",
       "       [-6.77821617e+01],\n",
       "       [ 4.34423610e+01],\n",
       "       [-2.34334002e+00],\n",
       "       [ 2.17947310e+01],\n",
       "       [-2.05801908e+01],\n",
       "       [-9.07820218e+00],\n",
       "       [-5.88417108e+00],\n",
       "       [ 1.44087342e+01],\n",
       "       [ 6.74917652e+01],\n",
       "       [ 2.86469298e+01],\n",
       "       [-3.89157554e+01],\n",
       "       [-1.38571395e+01],\n",
       "       [ 1.15246342e+01],\n",
       "       [ 6.15628920e+01],\n",
       "       [-1.17325520e+02],\n",
       "       [-3.90054609e+01],\n",
       "       [ 4.72655009e+01],\n",
       "       [ 2.16964730e+01],\n",
       "       [ 7.35008143e+00],\n",
       "       [-3.34811699e+01],\n",
       "       [-2.22546099e+01],\n",
       "       [-6.62668171e+01],\n",
       "       [ 4.05807027e+01],\n",
       "       [-2.58463952e+01],\n",
       "       [-6.85898164e+01],\n",
       "       [-5.32201719e+01],\n",
       "       [-3.07378913e+01],\n",
       "       [-3.48625542e+01],\n",
       "       [ 1.56958703e+01],\n",
       "       [-7.09092529e+01],\n",
       "       [-5.76971367e+01],\n",
       "       [ 1.50555611e+01],\n",
       "       [ 1.08996108e+01],\n",
       "       [ 7.77195513e+00],\n",
       "       [-3.85613227e+01],\n",
       "       [ 4.13552424e+01],\n",
       "       [ 4.34082098e+01],\n",
       "       [ 1.16415327e+01],\n",
       "       [-4.64394747e+01],\n",
       "       [-5.08678908e+01],\n",
       "       [ 2.29386772e+01],\n",
       "       [-3.85869842e+02],\n",
       "       [ 1.65441024e+01],\n",
       "       [-4.29694475e+01],\n",
       "       [ 1.70293234e-01],\n",
       "       [ 5.51283048e+00],\n",
       "       [-8.73637516e+00],\n",
       "       [-5.43731099e+01],\n",
       "       [-1.56288647e-01]])"
      ]
     },
     "execution_count": 49,
     "metadata": {},
     "output_type": "execute_result"
    }
   ],
   "source": [
    "gwr_model.predy-mgwr_model.predy"
   ]
  },
  {
   "cell_type": "markdown",
   "metadata": {},
   "source": [
    "Significant differences are seen in the predy, aic, aicc and bic for both\n",
    "\n",
    "Needs further checking"
   ]
  },
  {
   "cell_type": "markdown",
   "metadata": {},
   "source": [
    "#### Global model check"
   ]
  },
  {
   "cell_type": "code",
   "execution_count": 50,
   "metadata": {},
   "outputs": [],
   "source": [
    "import statsmodels.api as sma"
   ]
  },
  {
   "cell_type": "code",
   "execution_count": 51,
   "metadata": {},
   "outputs": [],
   "source": [
    "X_std_glob=sma.add_constant(X_std)"
   ]
  },
  {
   "cell_type": "code",
   "execution_count": 52,
   "metadata": {},
   "outputs": [],
   "source": [
    "poisson_mod = sma.Poisson(y, X_std_glob)"
   ]
  },
  {
   "cell_type": "code",
   "execution_count": 53,
   "metadata": {},
   "outputs": [
    {
     "name": "stdout",
     "output_type": "stream",
     "text": [
      "Optimization terminated successfully.\n",
      "         Current function value: 4.744412\n",
      "         Iterations 6\n",
      "                          Poisson Regression Results                          \n",
      "==============================================================================\n",
      "Dep. Variable:                      y   No. Observations:                  625\n",
      "Model:                        Poisson   Df Residuals:                      622\n",
      "Method:                           MLE   Df Model:                            2\n",
      "Date:                Fri, 21 Jun 2019   Pseudo R-squ.:                  0.6175\n",
      "Time:                        19:49:02   Log-Likelihood:                -2965.3\n",
      "converged:                       True   LL-Null:                       -7752.3\n",
      "                                        LLR p-value:                     0.000\n",
      "==============================================================================\n",
      "                 coef    std err          z      P>|z|      [0.025      0.975]\n",
      "------------------------------------------------------------------------------\n",
      "const          3.0720      0.009    330.550      0.000       3.054       3.090\n",
      "x1             0.2750      0.008     35.020      0.000       0.260       0.290\n",
      "x2             0.6474      0.007     89.577      0.000       0.633       0.662\n",
      "==============================================================================\n"
     ]
    }
   ],
   "source": [
    "poisson_res = poisson_mod.fit(method=\"newton\")\n",
    "print(poisson_res.summary())"
   ]
  },
  {
   "cell_type": "code",
   "execution_count": 54,
   "metadata": {},
   "outputs": [],
   "source": [
    "selector=Sel_BW(coords,y,X_std,multi=True,family=Poisson(),offset=None)"
   ]
  },
  {
   "cell_type": "code",
   "execution_count": 55,
   "metadata": {},
   "outputs": [
    {
     "name": "stdout",
     "output_type": "stream",
     "text": [
      "Current iteration: 1 ,SOC: 0.0012239\n",
      "Bandwidths: 625.0, 625.0, 625.0\n",
      "Current iteration: 2 ,SOC: 0.000105\n",
      "Bandwidths: 625.0, 625.0, 625.0\n",
      "Current iteration: 3 ,SOC: 6.8e-06\n",
      "Bandwidths: 625.0, 625.0, 625.0\n"
     ]
    },
    {
     "data": {
      "text/plain": [
       "array([625., 625., 625.])"
      ]
     },
     "execution_count": 55,
     "metadata": {},
     "output_type": "execute_result"
    }
   ],
   "source": [
    "selector.search(verbose=True,multi_bw_min=[625,625,625], multi_bw_max=[625,625,625])"
   ]
  },
  {
   "cell_type": "code",
   "execution_count": 56,
   "metadata": {},
   "outputs": [
    {
     "data": {
      "application/vnd.jupyter.widget-view+json": {
       "model_id": "ca9894ba991440ceb1c3275920966ece",
       "version_major": 2,
       "version_minor": 0
      },
      "text/plain": [
       "HBox(children=(IntProgress(value=0, description='Inference', max=1), HTML(value='')))"
      ]
     },
     "metadata": {},
     "output_type": "display_data"
    },
    {
     "name": "stdout",
     "output_type": "stream",
     "text": [
      "\n"
     ]
    }
   ],
   "source": [
    "mgwr_model=MGWR(coords,y,X_std,selector,family=Poisson(),offset=None).fit()"
   ]
  },
  {
   "cell_type": "code",
   "execution_count": 57,
   "metadata": {},
   "outputs": [
    {
     "data": {
      "text/plain": [
       "array([[3.01771774, 0.39543531, 0.47211797],\n",
       "       [3.01809359, 0.39971599, 0.47763267],\n",
       "       [3.01848253, 0.4041978 , 0.48303999],\n",
       "       [3.01888405, 0.40888618, 0.48827806],\n",
       "       [3.01929719, 0.41378459, 0.49326914]])"
      ]
     },
     "execution_count": 57,
     "metadata": {},
     "output_type": "execute_result"
    }
   ],
   "source": [
    "mgwr_model.params[:5]"
   ]
  },
  {
   "cell_type": "markdown",
   "metadata": {},
   "source": [
    "##### parameters similar for global Poisson model and forced global MGWR Poisson model"
   ]
  }
 ],
 "metadata": {
  "kernelspec": {
   "display_name": "Python 3",
   "language": "python",
   "name": "python3"
  },
  "language_info": {
   "codemirror_mode": {
    "name": "ipython",
    "version": 3
   },
   "file_extension": ".py",
   "mimetype": "text/x-python",
   "name": "python",
   "nbconvert_exporter": "python",
   "pygments_lexer": "ipython3",
   "version": "3.6.6"
  }
 },
 "nbformat": 4,
 "nbformat_minor": 2
}
